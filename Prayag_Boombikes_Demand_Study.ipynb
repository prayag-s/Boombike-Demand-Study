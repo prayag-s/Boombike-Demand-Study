{
 "cells": [
  {
   "cell_type": "markdown",
   "id": "2d6ae137",
   "metadata": {},
   "source": [
    "#                                         BoomBikes Demand Study\n",
    "\n",
    "\n",
    "---\n",
    "                                         Completed By Prayag Sanjay in January 2022\n",
    "\n"
   ]
  },
  {
   "cell_type": "markdown",
   "id": "6d609bfb",
   "metadata": {},
   "source": [
    "## 1. Problem Statment\n",
    "\n",
    "As a result of recent Corona pandemic, US bike-sharing provider BoomBikes are experiencing considerable drop in their revenues, making it very difficult to survive in the current market scenario.\n",
    "\n",
    "As a part of a their clever business plan to up revenue, they want to capitalise on the market as soon as lockdown ends. So they need to know the drivers for the demand for the shared bike in American market.\n",
    "\n",
    "\n",
    "Hence,\n",
    "\n",
    "### Goals of Study\n",
    "\n",
    "**1. To find out which variables are significant in predicting the demand for shared bikes.**\n",
    "\n",
    "**2. How well those variables describe the bike demands ?**\n",
    "\n",
    "### Business Goals\n",
    "\n",
    "**1. To build a model to predict the demand for shared bikes.**\n",
    "   \n",
    "**2. To explain the dynamics of the demand using the model.**\n",
    "\n",
    "Based on various meteorological surveys and people's styles, a service provider firm has gathered a large dataset on daily bike demands across the American market based on some factors. "
   ]
  },
  {
   "cell_type": "markdown",
   "id": "a8981c87",
   "metadata": {},
   "source": [
    "## 2. Data Set\n",
    "\n",
    "We are give a dataset on daily bike rental across America and various probable factors affecting the bike rental such as a weather conditions, day types such as weekend, holiday and rental type.\n"
   ]
  },
  {
   "cell_type": "markdown",
   "id": "b7b4cb94",
   "metadata": {},
   "source": [
    "## 3. Approach\n",
    "\n",
    "From the problem statement, we can see following characterstics\n",
    "\n",
    "1. Business wants to know the driver variables for a specific target, in this case bike demand.\n",
    "   So there is an expectation of **explainability** from the model.\n",
    "   \n",
    "\n",
    "2. Business want to **predict** demand for bikes or dynamics of demand as opposed to forecast the demand for bikes.\n",
    "\n",
    "Thus this problem falls in realms of **predictive analysis** where we want to interpolate the data. Aa a result of above two reasons we will employ **Linear Regression with multple variables** machine learning method to build the model which will answer the business questions.\n",
    "\n"
   ]
  },
  {
   "cell_type": "markdown",
   "id": "f9ff9ef6",
   "metadata": {},
   "source": [
    "## 4.  Setup and Reading the data"
   ]
  },
  {
   "cell_type": "markdown",
   "id": "364f137a",
   "metadata": {},
   "source": [
    "#### 4.1 We will import appropriate python libraries for data manipulation, visualization and Linear Regression model building and evaluation"
   ]
  },
  {
   "cell_type": "code",
   "execution_count": 1,
   "id": "f28da0df",
   "metadata": {},
   "outputs": [],
   "source": [
    "# numpy and pandas for data manipulation\n",
    "\n",
    "import math\n",
    "import numpy as np\n",
    "import pandas as pd \n",
    "\n",
    "# Suppress warnings \n",
    "\n",
    "import warnings\n",
    "warnings.filterwarnings('ignore')\n",
    "\n",
    "# matplotlib and seaborn with their settings for plotting\n",
    "\n",
    "import matplotlib.pyplot as plt\n",
    "import matplotlib\n",
    "import seaborn as sns\n",
    "sns.set()\n",
    "%matplotlib inline\n",
    "\n",
    "# set pandas configuration to show all column data\n",
    "\n",
    "pd.set_option('display.max_columns', None)\n",
    "\n",
    "# libaries for Linear Regression data preparation\n",
    "\n",
    "from sklearn.model_selection import train_test_split\n",
    "from sklearn.preprocessing import MinMaxScaler\n",
    "\n",
    "# libaries for Linear Regression fitting and evaulation\n",
    "\n",
    "import statsmodels\n",
    "import statsmodels.api as sm\n",
    "\n",
    "# libaries for RFE\n",
    "\n",
    "from statsmodels.stats.outliers_influence import variance_inflation_factor\n",
    "from sklearn.feature_selection import RFE\n",
    "from sklearn.linear_model import LinearRegression\n",
    "\n",
    "# libaries for RFE to find R-Square from test data\n",
    "\n",
    "from sklearn.metrics import mean_squared_error\n",
    "from sklearn.metrics import r2_score"
   ]
  },
  {
   "cell_type": "markdown",
   "id": "6f5b7a30",
   "metadata": {},
   "source": [
    "#### 4.2 We will load the data."
   ]
  },
  {
   "cell_type": "code",
   "execution_count": 2,
   "id": "f43312bc",
   "metadata": {},
   "outputs": [],
   "source": [
    "# Now we will read the data from csv file\n",
    "\n",
    "bikes = pd.read_csv('day.csv')"
   ]
  },
  {
   "cell_type": "markdown",
   "id": "3f4b1e84",
   "metadata": {},
   "source": [
    "## 5. Data quality and validity tests\n",
    "\n",
    "After having read we will get to know about the data and perform validation and quality tests on it\n",
    "\n",
    "### 5.1 First check a few rows from the dataset"
   ]
  },
  {
   "cell_type": "code",
   "execution_count": 3,
   "id": "fec80976",
   "metadata": {},
   "outputs": [
    {
     "data": {
      "text/html": [
       "<div>\n",
       "<style scoped>\n",
       "    .dataframe tbody tr th:only-of-type {\n",
       "        vertical-align: middle;\n",
       "    }\n",
       "\n",
       "    .dataframe tbody tr th {\n",
       "        vertical-align: top;\n",
       "    }\n",
       "\n",
       "    .dataframe thead th {\n",
       "        text-align: right;\n",
       "    }\n",
       "</style>\n",
       "<table border=\"1\" class=\"dataframe\">\n",
       "  <thead>\n",
       "    <tr style=\"text-align: right;\">\n",
       "      <th></th>\n",
       "      <th>instant</th>\n",
       "      <th>dteday</th>\n",
       "      <th>season</th>\n",
       "      <th>yr</th>\n",
       "      <th>mnth</th>\n",
       "      <th>holiday</th>\n",
       "      <th>weekday</th>\n",
       "      <th>workingday</th>\n",
       "      <th>weathersit</th>\n",
       "      <th>temp</th>\n",
       "      <th>atemp</th>\n",
       "      <th>hum</th>\n",
       "      <th>windspeed</th>\n",
       "      <th>casual</th>\n",
       "      <th>registered</th>\n",
       "      <th>cnt</th>\n",
       "    </tr>\n",
       "  </thead>\n",
       "  <tbody>\n",
       "    <tr>\n",
       "      <th>0</th>\n",
       "      <td>1</td>\n",
       "      <td>01-01-2018</td>\n",
       "      <td>1</td>\n",
       "      <td>0</td>\n",
       "      <td>1</td>\n",
       "      <td>0</td>\n",
       "      <td>6</td>\n",
       "      <td>0</td>\n",
       "      <td>2</td>\n",
       "      <td>14.110847</td>\n",
       "      <td>18.18125</td>\n",
       "      <td>80.5833</td>\n",
       "      <td>10.749882</td>\n",
       "      <td>331</td>\n",
       "      <td>654</td>\n",
       "      <td>985</td>\n",
       "    </tr>\n",
       "    <tr>\n",
       "      <th>1</th>\n",
       "      <td>2</td>\n",
       "      <td>02-01-2018</td>\n",
       "      <td>1</td>\n",
       "      <td>0</td>\n",
       "      <td>1</td>\n",
       "      <td>0</td>\n",
       "      <td>0</td>\n",
       "      <td>0</td>\n",
       "      <td>2</td>\n",
       "      <td>14.902598</td>\n",
       "      <td>17.68695</td>\n",
       "      <td>69.6087</td>\n",
       "      <td>16.652113</td>\n",
       "      <td>131</td>\n",
       "      <td>670</td>\n",
       "      <td>801</td>\n",
       "    </tr>\n",
       "    <tr>\n",
       "      <th>2</th>\n",
       "      <td>3</td>\n",
       "      <td>03-01-2018</td>\n",
       "      <td>1</td>\n",
       "      <td>0</td>\n",
       "      <td>1</td>\n",
       "      <td>0</td>\n",
       "      <td>1</td>\n",
       "      <td>1</td>\n",
       "      <td>1</td>\n",
       "      <td>8.050924</td>\n",
       "      <td>9.47025</td>\n",
       "      <td>43.7273</td>\n",
       "      <td>16.636703</td>\n",
       "      <td>120</td>\n",
       "      <td>1229</td>\n",
       "      <td>1349</td>\n",
       "    </tr>\n",
       "    <tr>\n",
       "      <th>3</th>\n",
       "      <td>4</td>\n",
       "      <td>04-01-2018</td>\n",
       "      <td>1</td>\n",
       "      <td>0</td>\n",
       "      <td>1</td>\n",
       "      <td>0</td>\n",
       "      <td>2</td>\n",
       "      <td>1</td>\n",
       "      <td>1</td>\n",
       "      <td>8.200000</td>\n",
       "      <td>10.60610</td>\n",
       "      <td>59.0435</td>\n",
       "      <td>10.739832</td>\n",
       "      <td>108</td>\n",
       "      <td>1454</td>\n",
       "      <td>1562</td>\n",
       "    </tr>\n",
       "    <tr>\n",
       "      <th>4</th>\n",
       "      <td>5</td>\n",
       "      <td>05-01-2018</td>\n",
       "      <td>1</td>\n",
       "      <td>0</td>\n",
       "      <td>1</td>\n",
       "      <td>0</td>\n",
       "      <td>3</td>\n",
       "      <td>1</td>\n",
       "      <td>1</td>\n",
       "      <td>9.305237</td>\n",
       "      <td>11.46350</td>\n",
       "      <td>43.6957</td>\n",
       "      <td>12.522300</td>\n",
       "      <td>82</td>\n",
       "      <td>1518</td>\n",
       "      <td>1600</td>\n",
       "    </tr>\n",
       "  </tbody>\n",
       "</table>\n",
       "</div>"
      ],
      "text/plain": [
       "   instant      dteday  season  yr  mnth  holiday  weekday  workingday  \\\n",
       "0        1  01-01-2018       1   0     1        0        6           0   \n",
       "1        2  02-01-2018       1   0     1        0        0           0   \n",
       "2        3  03-01-2018       1   0     1        0        1           1   \n",
       "3        4  04-01-2018       1   0     1        0        2           1   \n",
       "4        5  05-01-2018       1   0     1        0        3           1   \n",
       "\n",
       "   weathersit       temp     atemp      hum  windspeed  casual  registered  \\\n",
       "0           2  14.110847  18.18125  80.5833  10.749882     331         654   \n",
       "1           2  14.902598  17.68695  69.6087  16.652113     131         670   \n",
       "2           1   8.050924   9.47025  43.7273  16.636703     120        1229   \n",
       "3           1   8.200000  10.60610  59.0435  10.739832     108        1454   \n",
       "4           1   9.305237  11.46350  43.6957  12.522300      82        1518   \n",
       "\n",
       "    cnt  \n",
       "0   985  \n",
       "1   801  \n",
       "2  1349  \n",
       "3  1562  \n",
       "4  1600  "
      ]
     },
     "execution_count": 3,
     "metadata": {},
     "output_type": "execute_result"
    }
   ],
   "source": [
    "# Check first few records of the dataset\n",
    "\n",
    "bikes.head()"
   ]
  },
  {
   "cell_type": "markdown",
   "id": "0cbd4eb8",
   "metadata": {},
   "source": [
    "### 5.2 Get the column and row counts"
   ]
  },
  {
   "cell_type": "code",
   "execution_count": 4,
   "id": "40f7556f",
   "metadata": {},
   "outputs": [
    {
     "data": {
      "text/plain": [
       "(730, 16)"
      ]
     },
     "execution_count": 4,
     "metadata": {},
     "output_type": "execute_result"
    }
   ],
   "source": [
    "# get the shape of the dataset\n",
    "\n",
    "bikes.shape"
   ]
  },
  {
   "cell_type": "markdown",
   "id": "7d6cfbc2",
   "metadata": {},
   "source": [
    "### 5.3 Check whether rows have null values and type of columns"
   ]
  },
  {
   "cell_type": "code",
   "execution_count": 5,
   "id": "0ed6434d",
   "metadata": {},
   "outputs": [
    {
     "name": "stdout",
     "output_type": "stream",
     "text": [
      "<class 'pandas.core.frame.DataFrame'>\n",
      "RangeIndex: 730 entries, 0 to 729\n",
      "Data columns (total 16 columns):\n",
      " #   Column      Non-Null Count  Dtype  \n",
      "---  ------      --------------  -----  \n",
      " 0   instant     730 non-null    int64  \n",
      " 1   dteday      730 non-null    object \n",
      " 2   season      730 non-null    int64  \n",
      " 3   yr          730 non-null    int64  \n",
      " 4   mnth        730 non-null    int64  \n",
      " 5   holiday     730 non-null    int64  \n",
      " 6   weekday     730 non-null    int64  \n",
      " 7   workingday  730 non-null    int64  \n",
      " 8   weathersit  730 non-null    int64  \n",
      " 9   temp        730 non-null    float64\n",
      " 10  atemp       730 non-null    float64\n",
      " 11  hum         730 non-null    float64\n",
      " 12  windspeed   730 non-null    float64\n",
      " 13  casual      730 non-null    int64  \n",
      " 14  registered  730 non-null    int64  \n",
      " 15  cnt         730 non-null    int64  \n",
      "dtypes: float64(4), int64(11), object(1)\n",
      "memory usage: 91.4+ KB\n"
     ]
    }
   ],
   "source": [
    "# find information about the dataset\n",
    "\n",
    "bikes.info()"
   ]
  },
  {
   "cell_type": "markdown",
   "id": "952797cd",
   "metadata": {},
   "source": [
    "**Observation:**\n",
    "\n",
    "None of the rows have nulls values, hence no data imputing is requied or any removal of rows or columns is required."
   ]
  },
  {
   "cell_type": "markdown",
   "id": "8cd2fe2b",
   "metadata": {},
   "source": [
    "### 5.4 Check for any duplicate rows in the dataset"
   ]
  },
  {
   "cell_type": "code",
   "execution_count": 6,
   "id": "3d96287c",
   "metadata": {},
   "outputs": [
    {
     "data": {
      "text/html": [
       "<div>\n",
       "<style scoped>\n",
       "    .dataframe tbody tr th:only-of-type {\n",
       "        vertical-align: middle;\n",
       "    }\n",
       "\n",
       "    .dataframe tbody tr th {\n",
       "        vertical-align: top;\n",
       "    }\n",
       "\n",
       "    .dataframe thead th {\n",
       "        text-align: right;\n",
       "    }\n",
       "</style>\n",
       "<table border=\"1\" class=\"dataframe\">\n",
       "  <thead>\n",
       "    <tr style=\"text-align: right;\">\n",
       "      <th></th>\n",
       "      <th>instant</th>\n",
       "      <th>dteday</th>\n",
       "      <th>season</th>\n",
       "      <th>yr</th>\n",
       "      <th>mnth</th>\n",
       "      <th>holiday</th>\n",
       "      <th>weekday</th>\n",
       "      <th>workingday</th>\n",
       "      <th>weathersit</th>\n",
       "      <th>temp</th>\n",
       "      <th>atemp</th>\n",
       "      <th>hum</th>\n",
       "      <th>windspeed</th>\n",
       "      <th>casual</th>\n",
       "      <th>registered</th>\n",
       "      <th>cnt</th>\n",
       "    </tr>\n",
       "  </thead>\n",
       "  <tbody>\n",
       "  </tbody>\n",
       "</table>\n",
       "</div>"
      ],
      "text/plain": [
       "Empty DataFrame\n",
       "Columns: [instant, dteday, season, yr, mnth, holiday, weekday, workingday, weathersit, temp, atemp, hum, windspeed, casual, registered, cnt]\n",
       "Index: []"
      ]
     },
     "execution_count": 6,
     "metadata": {},
     "output_type": "execute_result"
    }
   ],
   "source": [
    "# Check if there any duplicates\n",
    "\n",
    "bikes[bikes.duplicated()==True]"
   ]
  },
  {
   "cell_type": "markdown",
   "id": "f3aa843b",
   "metadata": {},
   "source": [
    "**Observation:**\n",
    "\n",
    "There are no duplicate rows in the dataset. So no rows needs to be removed."
   ]
  },
  {
   "cell_type": "markdown",
   "id": "804d47ac",
   "metadata": {},
   "source": [
    "### 5.5 Also check number of unique values for each columns, to be used in validation later."
   ]
  },
  {
   "cell_type": "code",
   "execution_count": 7,
   "id": "46dc55df",
   "metadata": {},
   "outputs": [
    {
     "data": {
      "text/plain": [
       "yr              2\n",
       "holiday         2\n",
       "workingday      2\n",
       "weathersit      3\n",
       "season          4\n",
       "weekday         7\n",
       "mnth           12\n",
       "temp          498\n",
       "hum           594\n",
       "casual        605\n",
       "windspeed     649\n",
       "registered    678\n",
       "atemp         689\n",
       "cnt           695\n",
       "instant       730\n",
       "dteday        730\n",
       "dtype: int64"
      ]
     },
     "execution_count": 7,
     "metadata": {},
     "output_type": "execute_result"
    }
   ],
   "source": [
    "# Checking for number of unique valuesin columns\n",
    "\n",
    "bikes.nunique().sort_values()"
   ]
  },
  {
   "cell_type": "markdown",
   "id": "fdeb66a0",
   "metadata": {},
   "source": [
    "### 5.6 Columns in following array are categorical so getting unique values in each columns to verify if values are valid"
   ]
  },
  {
   "cell_type": "code",
   "execution_count": 8,
   "id": "fdd38f42",
   "metadata": {},
   "outputs": [
    {
     "name": "stdout",
     "output_type": "stream",
     "text": [
      "yr\n",
      "[0 1]\n",
      "----------------------------\n",
      "holiday\n",
      "[0 1]\n",
      "----------------------------\n",
      "workingday\n",
      "[0 1]\n",
      "----------------------------\n",
      "weathersit\n",
      "[2 1 3]\n",
      "----------------------------\n",
      "season\n",
      "[1 2 3 4]\n",
      "----------------------------\n",
      "weekday\n",
      "[6 0 1 2 3 4 5]\n",
      "----------------------------\n",
      "mnth\n",
      "[ 1  2  3  4  5  6  7  8  9 10 11 12]\n",
      "----------------------------\n"
     ]
    }
   ],
   "source": [
    "# get unqiue values in each of following columns\n",
    "\n",
    "for var in ['yr', 'holiday', 'workingday', 'weathersit', 'season', 'weekday', 'mnth'] :\n",
    "    print(var)\n",
    "    print(bikes[var].unique())\n",
    "    print('----------------------------')"
   ]
  },
  {
   "cell_type": "markdown",
   "id": "6def521a",
   "metadata": {},
   "source": [
    "**Observations:**\n",
    "\n",
    "1. Year, Holiday, working day have only two values viz. 0 and 1, which is correct as per data dictionary.\n",
    "\n",
    "2. weathersit, season values are all correct as per data dictionary.\n",
    "\n",
    "3. weekday has correct range values from 0 to 6.\n",
    "\n",
    "4. mnth has correct range of values from 1 to 12.\n",
    "\n",
    "5. So data in the dataset is correct as per dictionary and with correct range."
   ]
  },
  {
   "cell_type": "markdown",
   "id": "81e6e63c",
   "metadata": {},
   "source": [
    "### 5.7 Validating the numerical values to see whether range is ok"
   ]
  },
  {
   "cell_type": "code",
   "execution_count": 9,
   "id": "f9bad49d",
   "metadata": {},
   "outputs": [
    {
     "data": {
      "text/html": [
       "<div>\n",
       "<style scoped>\n",
       "    .dataframe tbody tr th:only-of-type {\n",
       "        vertical-align: middle;\n",
       "    }\n",
       "\n",
       "    .dataframe tbody tr th {\n",
       "        vertical-align: top;\n",
       "    }\n",
       "\n",
       "    .dataframe thead th {\n",
       "        text-align: right;\n",
       "    }\n",
       "</style>\n",
       "<table border=\"1\" class=\"dataframe\">\n",
       "  <thead>\n",
       "    <tr style=\"text-align: right;\">\n",
       "      <th></th>\n",
       "      <th>instant</th>\n",
       "      <th>season</th>\n",
       "      <th>yr</th>\n",
       "      <th>mnth</th>\n",
       "      <th>holiday</th>\n",
       "      <th>weekday</th>\n",
       "      <th>workingday</th>\n",
       "      <th>weathersit</th>\n",
       "      <th>temp</th>\n",
       "      <th>atemp</th>\n",
       "      <th>hum</th>\n",
       "      <th>windspeed</th>\n",
       "      <th>casual</th>\n",
       "      <th>registered</th>\n",
       "      <th>cnt</th>\n",
       "    </tr>\n",
       "  </thead>\n",
       "  <tbody>\n",
       "    <tr>\n",
       "      <th>count</th>\n",
       "      <td>730.000000</td>\n",
       "      <td>730.000000</td>\n",
       "      <td>730.000000</td>\n",
       "      <td>730.000000</td>\n",
       "      <td>730.000000</td>\n",
       "      <td>730.000000</td>\n",
       "      <td>730.000000</td>\n",
       "      <td>730.000000</td>\n",
       "      <td>730.000000</td>\n",
       "      <td>730.000000</td>\n",
       "      <td>730.000000</td>\n",
       "      <td>730.000000</td>\n",
       "      <td>730.000000</td>\n",
       "      <td>730.000000</td>\n",
       "      <td>730.000000</td>\n",
       "    </tr>\n",
       "    <tr>\n",
       "      <th>mean</th>\n",
       "      <td>365.500000</td>\n",
       "      <td>2.498630</td>\n",
       "      <td>0.500000</td>\n",
       "      <td>6.526027</td>\n",
       "      <td>0.028767</td>\n",
       "      <td>2.997260</td>\n",
       "      <td>0.683562</td>\n",
       "      <td>1.394521</td>\n",
       "      <td>20.319259</td>\n",
       "      <td>23.726322</td>\n",
       "      <td>62.765175</td>\n",
       "      <td>12.763620</td>\n",
       "      <td>849.249315</td>\n",
       "      <td>3658.757534</td>\n",
       "      <td>4508.006849</td>\n",
       "    </tr>\n",
       "    <tr>\n",
       "      <th>std</th>\n",
       "      <td>210.877136</td>\n",
       "      <td>1.110184</td>\n",
       "      <td>0.500343</td>\n",
       "      <td>3.450215</td>\n",
       "      <td>0.167266</td>\n",
       "      <td>2.006161</td>\n",
       "      <td>0.465405</td>\n",
       "      <td>0.544807</td>\n",
       "      <td>7.506729</td>\n",
       "      <td>8.150308</td>\n",
       "      <td>14.237589</td>\n",
       "      <td>5.195841</td>\n",
       "      <td>686.479875</td>\n",
       "      <td>1559.758728</td>\n",
       "      <td>1936.011647</td>\n",
       "    </tr>\n",
       "    <tr>\n",
       "      <th>min</th>\n",
       "      <td>1.000000</td>\n",
       "      <td>1.000000</td>\n",
       "      <td>0.000000</td>\n",
       "      <td>1.000000</td>\n",
       "      <td>0.000000</td>\n",
       "      <td>0.000000</td>\n",
       "      <td>0.000000</td>\n",
       "      <td>1.000000</td>\n",
       "      <td>2.424346</td>\n",
       "      <td>3.953480</td>\n",
       "      <td>0.000000</td>\n",
       "      <td>1.500244</td>\n",
       "      <td>2.000000</td>\n",
       "      <td>20.000000</td>\n",
       "      <td>22.000000</td>\n",
       "    </tr>\n",
       "    <tr>\n",
       "      <th>25%</th>\n",
       "      <td>183.250000</td>\n",
       "      <td>2.000000</td>\n",
       "      <td>0.000000</td>\n",
       "      <td>4.000000</td>\n",
       "      <td>0.000000</td>\n",
       "      <td>1.000000</td>\n",
       "      <td>0.000000</td>\n",
       "      <td>1.000000</td>\n",
       "      <td>13.811885</td>\n",
       "      <td>16.889713</td>\n",
       "      <td>52.000000</td>\n",
       "      <td>9.041650</td>\n",
       "      <td>316.250000</td>\n",
       "      <td>2502.250000</td>\n",
       "      <td>3169.750000</td>\n",
       "    </tr>\n",
       "    <tr>\n",
       "      <th>50%</th>\n",
       "      <td>365.500000</td>\n",
       "      <td>3.000000</td>\n",
       "      <td>0.500000</td>\n",
       "      <td>7.000000</td>\n",
       "      <td>0.000000</td>\n",
       "      <td>3.000000</td>\n",
       "      <td>1.000000</td>\n",
       "      <td>1.000000</td>\n",
       "      <td>20.465826</td>\n",
       "      <td>24.368225</td>\n",
       "      <td>62.625000</td>\n",
       "      <td>12.125325</td>\n",
       "      <td>717.000000</td>\n",
       "      <td>3664.500000</td>\n",
       "      <td>4548.500000</td>\n",
       "    </tr>\n",
       "    <tr>\n",
       "      <th>75%</th>\n",
       "      <td>547.750000</td>\n",
       "      <td>3.000000</td>\n",
       "      <td>1.000000</td>\n",
       "      <td>10.000000</td>\n",
       "      <td>0.000000</td>\n",
       "      <td>5.000000</td>\n",
       "      <td>1.000000</td>\n",
       "      <td>2.000000</td>\n",
       "      <td>26.880615</td>\n",
       "      <td>30.445775</td>\n",
       "      <td>72.989575</td>\n",
       "      <td>15.625589</td>\n",
       "      <td>1096.500000</td>\n",
       "      <td>4783.250000</td>\n",
       "      <td>5966.000000</td>\n",
       "    </tr>\n",
       "    <tr>\n",
       "      <th>max</th>\n",
       "      <td>730.000000</td>\n",
       "      <td>4.000000</td>\n",
       "      <td>1.000000</td>\n",
       "      <td>12.000000</td>\n",
       "      <td>1.000000</td>\n",
       "      <td>6.000000</td>\n",
       "      <td>1.000000</td>\n",
       "      <td>3.000000</td>\n",
       "      <td>35.328347</td>\n",
       "      <td>42.044800</td>\n",
       "      <td>97.250000</td>\n",
       "      <td>34.000021</td>\n",
       "      <td>3410.000000</td>\n",
       "      <td>6946.000000</td>\n",
       "      <td>8714.000000</td>\n",
       "    </tr>\n",
       "  </tbody>\n",
       "</table>\n",
       "</div>"
      ],
      "text/plain": [
       "          instant      season          yr        mnth     holiday     weekday  \\\n",
       "count  730.000000  730.000000  730.000000  730.000000  730.000000  730.000000   \n",
       "mean   365.500000    2.498630    0.500000    6.526027    0.028767    2.997260   \n",
       "std    210.877136    1.110184    0.500343    3.450215    0.167266    2.006161   \n",
       "min      1.000000    1.000000    0.000000    1.000000    0.000000    0.000000   \n",
       "25%    183.250000    2.000000    0.000000    4.000000    0.000000    1.000000   \n",
       "50%    365.500000    3.000000    0.500000    7.000000    0.000000    3.000000   \n",
       "75%    547.750000    3.000000    1.000000   10.000000    0.000000    5.000000   \n",
       "max    730.000000    4.000000    1.000000   12.000000    1.000000    6.000000   \n",
       "\n",
       "       workingday  weathersit        temp       atemp         hum   windspeed  \\\n",
       "count  730.000000  730.000000  730.000000  730.000000  730.000000  730.000000   \n",
       "mean     0.683562    1.394521   20.319259   23.726322   62.765175   12.763620   \n",
       "std      0.465405    0.544807    7.506729    8.150308   14.237589    5.195841   \n",
       "min      0.000000    1.000000    2.424346    3.953480    0.000000    1.500244   \n",
       "25%      0.000000    1.000000   13.811885   16.889713   52.000000    9.041650   \n",
       "50%      1.000000    1.000000   20.465826   24.368225   62.625000   12.125325   \n",
       "75%      1.000000    2.000000   26.880615   30.445775   72.989575   15.625589   \n",
       "max      1.000000    3.000000   35.328347   42.044800   97.250000   34.000021   \n",
       "\n",
       "            casual   registered          cnt  \n",
       "count   730.000000   730.000000   730.000000  \n",
       "mean    849.249315  3658.757534  4508.006849  \n",
       "std     686.479875  1559.758728  1936.011647  \n",
       "min       2.000000    20.000000    22.000000  \n",
       "25%     316.250000  2502.250000  3169.750000  \n",
       "50%     717.000000  3664.500000  4548.500000  \n",
       "75%    1096.500000  4783.250000  5966.000000  \n",
       "max    3410.000000  6946.000000  8714.000000  "
      ]
     },
     "execution_count": 9,
     "metadata": {},
     "output_type": "execute_result"
    }
   ],
   "source": [
    "# we will check if the numerical data is with in correct range and no apperent outliers\n",
    "\n",
    "bikes.describe()"
   ]
  },
  {
   "cell_type": "markdown",
   "id": "15e3428f",
   "metadata": {},
   "source": [
    "**Observation:**\n",
    "\n",
    "Looking at the mean, min and max and co-relating with IQR, there do not seem to be any obvious outliers.\n",
    "We will check this later using boxplot"
   ]
  },
  {
   "cell_type": "markdown",
   "id": "11bcd24d",
   "metadata": {},
   "source": [
    "### 5.8 Verifying whether total of number bike rented is valid"
   ]
  },
  {
   "cell_type": "code",
   "execution_count": 10,
   "id": "05895461",
   "metadata": {},
   "outputs": [
    {
     "data": {
      "text/html": [
       "<div>\n",
       "<style scoped>\n",
       "    .dataframe tbody tr th:only-of-type {\n",
       "        vertical-align: middle;\n",
       "    }\n",
       "\n",
       "    .dataframe tbody tr th {\n",
       "        vertical-align: top;\n",
       "    }\n",
       "\n",
       "    .dataframe thead th {\n",
       "        text-align: right;\n",
       "    }\n",
       "</style>\n",
       "<table border=\"1\" class=\"dataframe\">\n",
       "  <thead>\n",
       "    <tr style=\"text-align: right;\">\n",
       "      <th></th>\n",
       "      <th>instant</th>\n",
       "      <th>dteday</th>\n",
       "      <th>season</th>\n",
       "      <th>yr</th>\n",
       "      <th>mnth</th>\n",
       "      <th>holiday</th>\n",
       "      <th>weekday</th>\n",
       "      <th>workingday</th>\n",
       "      <th>weathersit</th>\n",
       "      <th>temp</th>\n",
       "      <th>atemp</th>\n",
       "      <th>hum</th>\n",
       "      <th>windspeed</th>\n",
       "      <th>casual</th>\n",
       "      <th>registered</th>\n",
       "      <th>cnt</th>\n",
       "    </tr>\n",
       "  </thead>\n",
       "  <tbody>\n",
       "  </tbody>\n",
       "</table>\n",
       "</div>"
      ],
      "text/plain": [
       "Empty DataFrame\n",
       "Columns: [instant, dteday, season, yr, mnth, holiday, weekday, workingday, weathersit, temp, atemp, hum, windspeed, casual, registered, cnt]\n",
       "Index: []"
      ]
     },
     "execution_count": 10,
     "metadata": {},
     "output_type": "execute_result"
    }
   ],
   "source": [
    "# checking whether sum of registered and casual user's count is equal to total count(cnt)\n",
    "\n",
    "bikes[bikes.casual + bikes.registered != bikes.cnt]"
   ]
  },
  {
   "cell_type": "markdown",
   "id": "2efdd6c3",
   "metadata": {},
   "source": [
    "**Observation:**\n",
    "\n",
    "Total count of users (cnt) is valid in all rows\n"
   ]
  },
  {
   "cell_type": "markdown",
   "id": "944a160e",
   "metadata": {},
   "source": [
    "### 5.9 Verifying the values in holiday, workingday and weekday columns"
   ]
  },
  {
   "cell_type": "code",
   "execution_count": 11,
   "id": "638485d9",
   "metadata": {
    "scrolled": true
   },
   "outputs": [
    {
     "data": {
      "text/html": [
       "<div>\n",
       "<style scoped>\n",
       "    .dataframe tbody tr th:only-of-type {\n",
       "        vertical-align: middle;\n",
       "    }\n",
       "\n",
       "    .dataframe tbody tr th {\n",
       "        vertical-align: top;\n",
       "    }\n",
       "\n",
       "    .dataframe thead th {\n",
       "        text-align: right;\n",
       "    }\n",
       "</style>\n",
       "<table border=\"1\" class=\"dataframe\">\n",
       "  <thead>\n",
       "    <tr style=\"text-align: right;\">\n",
       "      <th></th>\n",
       "      <th>instant</th>\n",
       "      <th>dteday</th>\n",
       "      <th>season</th>\n",
       "      <th>yr</th>\n",
       "      <th>mnth</th>\n",
       "      <th>holiday</th>\n",
       "      <th>weekday</th>\n",
       "      <th>workingday</th>\n",
       "      <th>weathersit</th>\n",
       "      <th>temp</th>\n",
       "      <th>atemp</th>\n",
       "      <th>hum</th>\n",
       "      <th>windspeed</th>\n",
       "      <th>casual</th>\n",
       "      <th>registered</th>\n",
       "      <th>cnt</th>\n",
       "    </tr>\n",
       "  </thead>\n",
       "  <tbody>\n",
       "  </tbody>\n",
       "</table>\n",
       "</div>"
      ],
      "text/plain": [
       "Empty DataFrame\n",
       "Columns: [instant, dteday, season, yr, mnth, holiday, weekday, workingday, weathersit, temp, atemp, hum, windspeed, casual, registered, cnt]\n",
       "Index: []"
      ]
     },
     "execution_count": 11,
     "metadata": {},
     "output_type": "execute_result"
    }
   ],
   "source": [
    "# check if holiday and working day data is valid by checking if a day is both holiday and working day\n",
    "\n",
    "bikes[(bikes.holiday == 1) &  (bikes.workingday == 1)]"
   ]
  },
  {
   "cell_type": "markdown",
   "id": "07658c1a",
   "metadata": {},
   "source": [
    "**Observation:**\n",
    "\n",
    "There is no data where holiday and working day are on same day. Thus data is valid"
   ]
  },
  {
   "cell_type": "code",
   "execution_count": 12,
   "id": "b9b9c44c",
   "metadata": {},
   "outputs": [
    {
     "data": {
      "text/plain": [
       "array([6, 0], dtype=int64)"
      ]
     },
     "execution_count": 12,
     "metadata": {},
     "output_type": "execute_result"
    }
   ],
   "source": [
    "# check which on which weekday day, non-working or non-holiday fall\n",
    "bikes[(bikes.holiday == 0) &  (bikes.workingday == 0)]['weekday'].unique()\n"
   ]
  },
  {
   "cell_type": "code",
   "execution_count": 13,
   "id": "afa013c2",
   "metadata": {},
   "outputs": [
    {
     "data": {
      "text/plain": [
       "array([1, 2, 3, 4, 5], dtype=int64)"
      ]
     },
     "execution_count": 13,
     "metadata": {},
     "output_type": "execute_result"
    }
   ],
   "source": [
    "# check on which day working day falls\n",
    "\n",
    "bikes[(bikes.workingday == 1)]['weekday'].unique()"
   ]
  },
  {
   "cell_type": "code",
   "execution_count": 14,
   "id": "bd52c946",
   "metadata": {},
   "outputs": [
    {
     "data": {
      "text/plain": [
       "array([1, 5, 4, 3, 2], dtype=int64)"
      ]
     },
     "execution_count": 14,
     "metadata": {},
     "output_type": "execute_result"
    }
   ],
   "source": [
    "# check on which day holiday falls\n",
    "\n",
    "bikes[(bikes.holiday == 1)]['weekday'].unique()"
   ]
  },
  {
   "cell_type": "markdown",
   "id": "22294cd0",
   "metadata": {},
   "source": [
    "**Observation:**\n",
    "\n",
    "1. Working day is defined as as day from 1 to 5.\n",
    "\n",
    "2. Holiday is defined as day from 1 to 5 when there is a holiday.\n",
    "\n",
    "3. On weekday numbers 0 and 6, its not a holiday or working day. That is probably Sunday and Saturday. So weekends are treated differntly than holidays.\n",
    "\n"
   ]
  },
  {
   "cell_type": "markdown",
   "id": "106096a9",
   "metadata": {},
   "source": [
    "## 6. Dropping unnecessary columns\n",
    "\n",
    "1. Column 'instant' is a simple record index, hence it has no effect on analysis. So it will be dropped.\n",
    "\n",
    "\n",
    "2. Column 'dteday' is fully qualified by other columns viz. 'season', 'yr', 'mnth', 'holiday', 'weekday' and 'workingday'. \n",
    "   So it is redundant and will be dropped.\n",
    "   \n",
    "   \n",
    "3. 'casual' and 'registered' columns add to 'cnt' column, so these are redundant and will be dropped."
   ]
  },
  {
   "cell_type": "code",
   "execution_count": 15,
   "id": "55701a62",
   "metadata": {},
   "outputs": [],
   "source": [
    "#  Drop column 'instant' and 'dtedate' in place\n",
    "\n",
    "bikes.drop(['instant', 'dteday', 'casual', 'registered'], axis=1, inplace=True)"
   ]
  },
  {
   "cell_type": "markdown",
   "id": "d70c82f7",
   "metadata": {},
   "source": [
    "## 7. Visualising Data"
   ]
  },
  {
   "cell_type": "markdown",
   "id": "db4e2474",
   "metadata": {},
   "source": [
    "### 7.1 Visualising Numerical Data\n",
    "\n",
    "We will do a pairt plot to see the co-relation of numerical variables with target variable and among themseleves"
   ]
  },
  {
   "cell_type": "code",
   "execution_count": 16,
   "id": "36a46e3f",
   "metadata": {},
   "outputs": [
    {
     "data": {
      "image/png": "[encoded data removed]",
      "text/plain": [
       "<Figure size 900x900 with 30 Axes>"
      ]
     },
     "metadata": {
      "needs_background": "light"
     },
     "output_type": "display_data"
    }
   ],
   "source": [
    "#  pairplot of only continous numerical variables\n",
    "\n",
    "num_vars = ['cnt', 'temp', 'hum', 'windspeed', 'atemp']\n",
    "sns.pairplot(bikes[num_vars], aspect=1)\n",
    "plt.show()"
   ]
  },
  {
   "cell_type": "markdown",
   "id": "35f523f6",
   "metadata": {},
   "source": [
    "**Observations:**\n",
    "\n",
    "1. Target variable 'cnt' is highly postively co-related with independent variables such as 'temp', 'atemp'.\n",
    "\n",
    "\n",
    "2. Target variable 'cnt' relation with independent variables such as 'hum' and 'windspeed' is not very well defined. It veering more on a negative co-relation.\n",
    "\n",
    "\n",
    "3. Independent variables 'temp' and 'atemp' are highly co-related among themselves and could be case of multicollinearity\n",
    ".\n"
   ]
  },
  {
   "cell_type": "markdown",
   "id": "56f0a24b",
   "metadata": {},
   "source": [
    "### 7.2 Visualising categorial data\n",
    "\n",
    "We will make a boxplot for these categorical variables."
   ]
  },
  {
   "cell_type": "code",
   "execution_count": 17,
   "id": "f0c2185f",
   "metadata": {},
   "outputs": [
    {
     "data": {
      "image/png": "[encoded data removed]",
      "text/plain": [
       "<Figure size 1440x1152 with 7 Axes>"
      ]
     },
     "metadata": {
      "needs_background": "light"
     },
     "output_type": "display_data"
    }
   ],
   "source": [
    "# boxplot of categorial variables\n",
    "\n",
    "plt.figure(figsize=(20, 16))\n",
    "plt.subplot(3,3,1)\n",
    "sns.boxplot(x = 'yr', y = 'cnt', data = bikes)\n",
    "plt.subplot(3,3,2)\n",
    "sns.boxplot(x = 'holiday', y = 'cnt', data = bikes)\n",
    "plt.subplot(3,3,3)\n",
    "sns.boxplot(x = 'workingday', y = 'cnt', data = bikes)\n",
    "plt.subplot(3,3,4)\n",
    "sns.boxplot(x = 'weathersit', y = 'cnt', data = bikes)\n",
    "plt.subplot(3,3,5)\n",
    "sns.boxplot(x = 'season', y = 'cnt', data = bikes)\n",
    "plt.subplot(3,3,6)\n",
    "sns.boxplot(x = 'mnth', y = 'cnt', data = bikes)\n",
    "plt.subplot(3,3,7)\n",
    "sns.boxplot(x = 'weekday', y = 'cnt', data = bikes)\n",
    "plt.show()"
   ]
  },
  {
   "cell_type": "markdown",
   "id": "b2be7727",
   "metadata": {},
   "source": [
    "**Observations:**\n",
    "\n",
    "1. There are more rentals in year 2019 as compared to year 2018, showing that there is scope for increase in rental on year to year basis.\n",
    "\n",
    "\n",
    "2. Average number of rentals are more on non-holidays as compared to holidays. This might mean that people rent more for business purpose such as going to work. The same is confirmed by the boxplot for working day.\n",
    "\n",
    "\n",
    "3. Expectedly the number of rental went down during adverse weather condition number 3 which is Light Snow, Light Rain + Thunderstorm + Scattered clouds, Light Rain + Scattered clouds.\n",
    "\n",
    "\n",
    "4. There is a marked reduction in bike rentals in season 1 (spring), where it is relatively high in summer, fall and surprisingly high in winter as well. This shows that biker population bike all year along.\n",
    "\n",
    "\n",
    "5. Distribution of bike rental across months matches with distributions across seasons. \n",
    "\n",
    "\n",
    "6. The number of rental on weekday to weekend being same. This further proves that week day may not be a factor in bike rental.\n",
    "\n",
    "\n",
    "7. There are no outliers worth of note in any of the above data.\n"
   ]
  },
  {
   "cell_type": "markdown",
   "id": "ac50cf85",
   "metadata": {},
   "source": [
    "### 7.3 Find co-relation using heatmap\n",
    "\n",
    "We will plot a heatmap to get co-relation between target and independent variables and among themselves."
   ]
  },
  {
   "cell_type": "code",
   "execution_count": 18,
   "id": "d050f2af",
   "metadata": {
    "scrolled": false
   },
   "outputs": [
    {
     "data": {
      "image/png": "[encoded data removed]",
      "text/plain": [
       "<Figure size 1152x720 with 2 Axes>"
      ]
     },
     "metadata": {
      "needs_background": "light"
     },
     "output_type": "display_data"
    }
   ],
   "source": [
    "# Check the correlation coefficients to see which variables are highly correlated. \n",
    "# This will hint regarding multicollinearity as well as to on which independent variables the target variable depends.\n",
    "\n",
    "plt.figure(figsize = (16, 10))\n",
    "sns.heatmap(bikes.corr(), annot = True, cmap=\"YlGnBu\")\n",
    "plt.show()"
   ]
  },
  {
   "cell_type": "markdown",
   "id": "3ede0a70",
   "metadata": {},
   "source": [
    "**Observations:**\n",
    "\n",
    "1. Number of bike rental is highly postively co-related with year. That means year on year the bike rental increases. That shows the demand for bike rental natuarlly increases and the market has to be captialised.\n",
    "\n",
    "\n",
    "2. The number of bike rental is also highly postively correlated with temperature. Warmer the day, more likely are people to rent bikes.\n",
    "\n",
    "\n",
    "3. There is moderate correlation of number of bike rentals with the month of the year. This may mean that people are likely to rent or not rent bike in certain months of the year.\n",
    "\n",
    "\n",
    "4. Negative correlated variables such as holiday, weather pattern, humidity and wind are the variables which lower the demand."
   ]
  },
  {
   "cell_type": "markdown",
   "id": "f499de66",
   "metadata": {},
   "source": [
    "### 7.4 Conclusions of Exploratory Data Analysis\n",
    "\n",
    "Based up on previous observations, we can group drivers variables in following groups\n",
    "\n",
    "**Positive Drivers**\n",
    "\n",
    "These variables increase the demand for the rental. So company should check and the plan the stock for these days\n",
    "\n",
    "-  Temperature of the days, higher the temperature higher the demand.\n",
    "\n",
    "-  Year on year increase. Probably with growing population and awareness for health, there is natural increase in demand from one year to another.\n",
    "\n",
    "- Working days, there is more demand on working days. \n",
    "\n",
    "- Season, with summer more perferred by the bikers.\n",
    "\n",
    "**Negative Drivers**\n",
    "\n",
    "These variables decrease the demand for the rental. So company should check and plan for the lean days.\n",
    "\n",
    "- Adverse weather days such as Light Snow, Light Rain + Thunderstorm + Scattered clouds, Light Rain + Scattered clouds.\n",
    "\n",
    "- Wind speed, on higer wind speed days demand decreases perhaps due wind chill factor or wind resistance.\n",
    "\n",
    "- Humidity, with higer humidity rentals seems to be negatively affected."
   ]
  },
  {
   "cell_type": "markdown",
   "id": "8365c790",
   "metadata": {},
   "source": [
    "## 9. Data Preparation\n",
    "\n",
    "We can observe that various columns 'season', 'mnth' and  'weathersit' are categorical data which have\n",
    "\n",
    "- More than two levels\n",
    "\n",
    "- They are un-ordered type, i.e. one value is not logically greater than other\n",
    "\n",
    "Hence they need to be encoded using dummy variables"
   ]
  },
  {
   "cell_type": "code",
   "execution_count": 19,
   "id": "6bb96ba4",
   "metadata": {
    "scrolled": false
   },
   "outputs": [
    {
     "data": {
      "text/html": [
       "<div>\n",
       "<style scoped>\n",
       "    .dataframe tbody tr th:only-of-type {\n",
       "        vertical-align: middle;\n",
       "    }\n",
       "\n",
       "    .dataframe tbody tr th {\n",
       "        vertical-align: top;\n",
       "    }\n",
       "\n",
       "    .dataframe thead th {\n",
       "        text-align: right;\n",
       "    }\n",
       "</style>\n",
       "<table border=\"1\" class=\"dataframe\">\n",
       "  <thead>\n",
       "    <tr style=\"text-align: right;\">\n",
       "      <th></th>\n",
       "      <th>yr</th>\n",
       "      <th>holiday</th>\n",
       "      <th>workingday</th>\n",
       "      <th>temp</th>\n",
       "      <th>atemp</th>\n",
       "      <th>hum</th>\n",
       "      <th>windspeed</th>\n",
       "      <th>cnt</th>\n",
       "      <th>summer</th>\n",
       "      <th>fall</th>\n",
       "      <th>winter</th>\n",
       "      <th>MistnCloudy</th>\n",
       "      <th>LightSnownStorms</th>\n",
       "      <th>Feb</th>\n",
       "      <th>Mar</th>\n",
       "      <th>Apr</th>\n",
       "      <th>May</th>\n",
       "      <th>Jun</th>\n",
       "      <th>Jul</th>\n",
       "      <th>Aug</th>\n",
       "      <th>Sep</th>\n",
       "      <th>Oct</th>\n",
       "      <th>Nov</th>\n",
       "      <th>Dec</th>\n",
       "      <th>weekday_1</th>\n",
       "      <th>weekday_2</th>\n",
       "      <th>weekday_3</th>\n",
       "      <th>weekday_4</th>\n",
       "      <th>weekday_5</th>\n",
       "      <th>weekday_6</th>\n",
       "    </tr>\n",
       "  </thead>\n",
       "  <tbody>\n",
       "    <tr>\n",
       "      <th>0</th>\n",
       "      <td>0</td>\n",
       "      <td>0</td>\n",
       "      <td>0</td>\n",
       "      <td>14.110847</td>\n",
       "      <td>18.18125</td>\n",
       "      <td>80.5833</td>\n",
       "      <td>10.749882</td>\n",
       "      <td>985</td>\n",
       "      <td>0</td>\n",
       "      <td>0</td>\n",
       "      <td>0</td>\n",
       "      <td>1</td>\n",
       "      <td>0</td>\n",
       "      <td>0</td>\n",
       "      <td>0</td>\n",
       "      <td>0</td>\n",
       "      <td>0</td>\n",
       "      <td>0</td>\n",
       "      <td>0</td>\n",
       "      <td>0</td>\n",
       "      <td>0</td>\n",
       "      <td>0</td>\n",
       "      <td>0</td>\n",
       "      <td>0</td>\n",
       "      <td>0</td>\n",
       "      <td>0</td>\n",
       "      <td>0</td>\n",
       "      <td>0</td>\n",
       "      <td>0</td>\n",
       "      <td>1</td>\n",
       "    </tr>\n",
       "    <tr>\n",
       "      <th>1</th>\n",
       "      <td>0</td>\n",
       "      <td>0</td>\n",
       "      <td>0</td>\n",
       "      <td>14.902598</td>\n",
       "      <td>17.68695</td>\n",
       "      <td>69.6087</td>\n",
       "      <td>16.652113</td>\n",
       "      <td>801</td>\n",
       "      <td>0</td>\n",
       "      <td>0</td>\n",
       "      <td>0</td>\n",
       "      <td>1</td>\n",
       "      <td>0</td>\n",
       "      <td>0</td>\n",
       "      <td>0</td>\n",
       "      <td>0</td>\n",
       "      <td>0</td>\n",
       "      <td>0</td>\n",
       "      <td>0</td>\n",
       "      <td>0</td>\n",
       "      <td>0</td>\n",
       "      <td>0</td>\n",
       "      <td>0</td>\n",
       "      <td>0</td>\n",
       "      <td>0</td>\n",
       "      <td>0</td>\n",
       "      <td>0</td>\n",
       "      <td>0</td>\n",
       "      <td>0</td>\n",
       "      <td>0</td>\n",
       "    </tr>\n",
       "    <tr>\n",
       "      <th>2</th>\n",
       "      <td>0</td>\n",
       "      <td>0</td>\n",
       "      <td>1</td>\n",
       "      <td>8.050924</td>\n",
       "      <td>9.47025</td>\n",
       "      <td>43.7273</td>\n",
       "      <td>16.636703</td>\n",
       "      <td>1349</td>\n",
       "      <td>0</td>\n",
       "      <td>0</td>\n",
       "      <td>0</td>\n",
       "      <td>0</td>\n",
       "      <td>0</td>\n",
       "      <td>0</td>\n",
       "      <td>0</td>\n",
       "      <td>0</td>\n",
       "      <td>0</td>\n",
       "      <td>0</td>\n",
       "      <td>0</td>\n",
       "      <td>0</td>\n",
       "      <td>0</td>\n",
       "      <td>0</td>\n",
       "      <td>0</td>\n",
       "      <td>0</td>\n",
       "      <td>1</td>\n",
       "      <td>0</td>\n",
       "      <td>0</td>\n",
       "      <td>0</td>\n",
       "      <td>0</td>\n",
       "      <td>0</td>\n",
       "    </tr>\n",
       "    <tr>\n",
       "      <th>3</th>\n",
       "      <td>0</td>\n",
       "      <td>0</td>\n",
       "      <td>1</td>\n",
       "      <td>8.200000</td>\n",
       "      <td>10.60610</td>\n",
       "      <td>59.0435</td>\n",
       "      <td>10.739832</td>\n",
       "      <td>1562</td>\n",
       "      <td>0</td>\n",
       "      <td>0</td>\n",
       "      <td>0</td>\n",
       "      <td>0</td>\n",
       "      <td>0</td>\n",
       "      <td>0</td>\n",
       "      <td>0</td>\n",
       "      <td>0</td>\n",
       "      <td>0</td>\n",
       "      <td>0</td>\n",
       "      <td>0</td>\n",
       "      <td>0</td>\n",
       "      <td>0</td>\n",
       "      <td>0</td>\n",
       "      <td>0</td>\n",
       "      <td>0</td>\n",
       "      <td>0</td>\n",
       "      <td>1</td>\n",
       "      <td>0</td>\n",
       "      <td>0</td>\n",
       "      <td>0</td>\n",
       "      <td>0</td>\n",
       "    </tr>\n",
       "    <tr>\n",
       "      <th>4</th>\n",
       "      <td>0</td>\n",
       "      <td>0</td>\n",
       "      <td>1</td>\n",
       "      <td>9.305237</td>\n",
       "      <td>11.46350</td>\n",
       "      <td>43.6957</td>\n",
       "      <td>12.522300</td>\n",
       "      <td>1600</td>\n",
       "      <td>0</td>\n",
       "      <td>0</td>\n",
       "      <td>0</td>\n",
       "      <td>0</td>\n",
       "      <td>0</td>\n",
       "      <td>0</td>\n",
       "      <td>0</td>\n",
       "      <td>0</td>\n",
       "      <td>0</td>\n",
       "      <td>0</td>\n",
       "      <td>0</td>\n",
       "      <td>0</td>\n",
       "      <td>0</td>\n",
       "      <td>0</td>\n",
       "      <td>0</td>\n",
       "      <td>0</td>\n",
       "      <td>0</td>\n",
       "      <td>0</td>\n",
       "      <td>1</td>\n",
       "      <td>0</td>\n",
       "      <td>0</td>\n",
       "      <td>0</td>\n",
       "    </tr>\n",
       "  </tbody>\n",
       "</table>\n",
       "</div>"
      ],
      "text/plain": [
       "   yr  holiday  workingday       temp     atemp      hum  windspeed   cnt  \\\n",
       "0   0        0           0  14.110847  18.18125  80.5833  10.749882   985   \n",
       "1   0        0           0  14.902598  17.68695  69.6087  16.652113   801   \n",
       "2   0        0           1   8.050924   9.47025  43.7273  16.636703  1349   \n",
       "3   0        0           1   8.200000  10.60610  59.0435  10.739832  1562   \n",
       "4   0        0           1   9.305237  11.46350  43.6957  12.522300  1600   \n",
       "\n",
       "   summer  fall  winter  MistnCloudy  LightSnownStorms  Feb  Mar  Apr  May  \\\n",
       "0       0     0       0            1                 0    0    0    0    0   \n",
       "1       0     0       0            1                 0    0    0    0    0   \n",
       "2       0     0       0            0                 0    0    0    0    0   \n",
       "3       0     0       0            0                 0    0    0    0    0   \n",
       "4       0     0       0            0                 0    0    0    0    0   \n",
       "\n",
       "   Jun  Jul  Aug  Sep  Oct  Nov  Dec  weekday_1  weekday_2  weekday_3  \\\n",
       "0    0    0    0    0    0    0    0          0          0          0   \n",
       "1    0    0    0    0    0    0    0          0          0          0   \n",
       "2    0    0    0    0    0    0    0          1          0          0   \n",
       "3    0    0    0    0    0    0    0          0          1          0   \n",
       "4    0    0    0    0    0    0    0          0          0          1   \n",
       "\n",
       "   weekday_4  weekday_5  weekday_6  \n",
       "0          0          0          1  \n",
       "1          0          0          0  \n",
       "2          0          0          0  \n",
       "3          0          0          0  \n",
       "4          0          0          0  "
      ]
     },
     "execution_count": 19,
     "metadata": {},
     "output_type": "execute_result"
    }
   ],
   "source": [
    "# List of variables to encode\n",
    "\n",
    "varlist =  ['season', 'weathersit', 'mnth', 'weekday']\n",
    "\n",
    "# we will drop the first column of each of the above set as n-1 levels are enough to describe a variable, if it has n levels\n",
    "\n",
    "bikes = pd.get_dummies(data=bikes, columns=varlist, drop_first = True)\n",
    "\n",
    "# rename columns for easy identification\n",
    "\n",
    "bikes.rename(columns = {'season_2':'summer', 'season_3':'fall', 'season_4':'winter'}, inplace = True)\n",
    "bikes.rename(columns = {'weathersit_2':'MistnCloudy', 'weathersit_3':'LightSnownStorms', 'season_4':'HeavySnownStorms'}, inplace = True)\n",
    "bikes.rename(columns = {'mnth_2':'Feb', 'mnth_3':'Mar','mnth_4':'Apr','mnth_5':'May',\\\n",
    "                        'mnth_6':'Jun', 'mnth_7':'Jul', 'mnth_8':'Aug', 'mnth_9':'Sep',\\\n",
    "                        'mnth_10':'Oct', 'mnth_11':'Nov', 'mnth_12':'Dec'}, inplace = True)\n",
    "\n",
    "# check the dataset after dummy creation\n",
    "\n",
    "bikes.head()"
   ]
  },
  {
   "cell_type": "markdown",
   "id": "ca620472",
   "metadata": {},
   "source": [
    "## 10. Creation of Training and Test Sets \n",
    "\n",
    "We will split the data in to training and test set, with training set being 70% of whole data and rest 30% being test set."
   ]
  },
  {
   "cell_type": "code",
   "execution_count": 20,
   "id": "17867cfd",
   "metadata": {},
   "outputs": [],
   "source": [
    "# Set the random number generator seed and random_state so that we alawys get the same set of data\n",
    "\n",
    "np.random.seed(0)\n",
    "bikes_train, bikes_test = train_test_split(bikes, train_size = 0.7, test_size = 0.3, random_state = 50)"
   ]
  },
  {
   "cell_type": "markdown",
   "id": "c2917c3f",
   "metadata": {},
   "source": [
    "## 11. Rescaling the Features \n",
    "\n",
    "The 'cnt' column has large range of values as well as columns as 'temp', 'atemp', 'hum' etc. We will all bring them to same\n",
    "scale using **Min-Max scaling**, as it\n",
    "\n",
    "1. Helps in faster convergence to minima during training.\n",
    "\n",
    "\n",
    "2. It makes evaluation of the model easier.\n"
   ]
  },
  {
   "cell_type": "code",
   "execution_count": 21,
   "id": "50e5fed5",
   "metadata": {},
   "outputs": [
    {
     "data": {
      "text/html": [
       "<div>\n",
       "<style scoped>\n",
       "    .dataframe tbody tr th:only-of-type {\n",
       "        vertical-align: middle;\n",
       "    }\n",
       "\n",
       "    .dataframe tbody tr th {\n",
       "        vertical-align: top;\n",
       "    }\n",
       "\n",
       "    .dataframe thead th {\n",
       "        text-align: right;\n",
       "    }\n",
       "</style>\n",
       "<table border=\"1\" class=\"dataframe\">\n",
       "  <thead>\n",
       "    <tr style=\"text-align: right;\">\n",
       "      <th></th>\n",
       "      <th>yr</th>\n",
       "      <th>holiday</th>\n",
       "      <th>workingday</th>\n",
       "      <th>temp</th>\n",
       "      <th>atemp</th>\n",
       "      <th>hum</th>\n",
       "      <th>windspeed</th>\n",
       "      <th>cnt</th>\n",
       "      <th>summer</th>\n",
       "      <th>fall</th>\n",
       "      <th>winter</th>\n",
       "      <th>MistnCloudy</th>\n",
       "      <th>LightSnownStorms</th>\n",
       "      <th>Feb</th>\n",
       "      <th>Mar</th>\n",
       "      <th>Apr</th>\n",
       "      <th>May</th>\n",
       "      <th>Jun</th>\n",
       "      <th>Jul</th>\n",
       "      <th>Aug</th>\n",
       "      <th>Sep</th>\n",
       "      <th>Oct</th>\n",
       "      <th>Nov</th>\n",
       "      <th>Dec</th>\n",
       "      <th>weekday_1</th>\n",
       "      <th>weekday_2</th>\n",
       "      <th>weekday_3</th>\n",
       "      <th>weekday_4</th>\n",
       "      <th>weekday_5</th>\n",
       "      <th>weekday_6</th>\n",
       "    </tr>\n",
       "  </thead>\n",
       "  <tbody>\n",
       "    <tr>\n",
       "      <th>count</th>\n",
       "      <td>510.000000</td>\n",
       "      <td>510.000000</td>\n",
       "      <td>510.000000</td>\n",
       "      <td>510.000000</td>\n",
       "      <td>510.000000</td>\n",
       "      <td>510.000000</td>\n",
       "      <td>510.000000</td>\n",
       "      <td>510.000000</td>\n",
       "      <td>510.000000</td>\n",
       "      <td>510.00000</td>\n",
       "      <td>510.000000</td>\n",
       "      <td>510.000000</td>\n",
       "      <td>510.000000</td>\n",
       "      <td>510.000000</td>\n",
       "      <td>510.000000</td>\n",
       "      <td>510.000000</td>\n",
       "      <td>510.000000</td>\n",
       "      <td>510.000000</td>\n",
       "      <td>510.000000</td>\n",
       "      <td>510.000000</td>\n",
       "      <td>510.000000</td>\n",
       "      <td>510.000000</td>\n",
       "      <td>510.000000</td>\n",
       "      <td>510.000000</td>\n",
       "      <td>510.000000</td>\n",
       "      <td>510.000000</td>\n",
       "      <td>510.000000</td>\n",
       "      <td>510.000000</td>\n",
       "      <td>510.000000</td>\n",
       "      <td>510.000000</td>\n",
       "    </tr>\n",
       "    <tr>\n",
       "      <th>mean</th>\n",
       "      <td>0.482353</td>\n",
       "      <td>0.023529</td>\n",
       "      <td>0.705882</td>\n",
       "      <td>0.552680</td>\n",
       "      <td>0.545242</td>\n",
       "      <td>0.644848</td>\n",
       "      <td>0.318203</td>\n",
       "      <td>0.509945</td>\n",
       "      <td>0.254902</td>\n",
       "      <td>0.24902</td>\n",
       "      <td>0.250980</td>\n",
       "      <td>0.341176</td>\n",
       "      <td>0.031373</td>\n",
       "      <td>0.076471</td>\n",
       "      <td>0.094118</td>\n",
       "      <td>0.074510</td>\n",
       "      <td>0.100000</td>\n",
       "      <td>0.082353</td>\n",
       "      <td>0.078431</td>\n",
       "      <td>0.088235</td>\n",
       "      <td>0.064706</td>\n",
       "      <td>0.086275</td>\n",
       "      <td>0.086275</td>\n",
       "      <td>0.094118</td>\n",
       "      <td>0.152941</td>\n",
       "      <td>0.149020</td>\n",
       "      <td>0.139216</td>\n",
       "      <td>0.145098</td>\n",
       "      <td>0.143137</td>\n",
       "      <td>0.135294</td>\n",
       "    </tr>\n",
       "    <tr>\n",
       "      <th>std</th>\n",
       "      <td>0.500179</td>\n",
       "      <td>0.151726</td>\n",
       "      <td>0.456092</td>\n",
       "      <td>0.230600</td>\n",
       "      <td>0.223322</td>\n",
       "      <td>0.149640</td>\n",
       "      <td>0.167086</td>\n",
       "      <td>0.223408</td>\n",
       "      <td>0.436234</td>\n",
       "      <td>0.43287</td>\n",
       "      <td>0.434003</td>\n",
       "      <td>0.474570</td>\n",
       "      <td>0.174494</td>\n",
       "      <td>0.266010</td>\n",
       "      <td>0.292279</td>\n",
       "      <td>0.262857</td>\n",
       "      <td>0.300295</td>\n",
       "      <td>0.275172</td>\n",
       "      <td>0.269113</td>\n",
       "      <td>0.283915</td>\n",
       "      <td>0.246248</td>\n",
       "      <td>0.281045</td>\n",
       "      <td>0.281045</td>\n",
       "      <td>0.292279</td>\n",
       "      <td>0.360284</td>\n",
       "      <td>0.356457</td>\n",
       "      <td>0.346511</td>\n",
       "      <td>0.352545</td>\n",
       "      <td>0.350557</td>\n",
       "      <td>0.342373</td>\n",
       "    </tr>\n",
       "    <tr>\n",
       "      <th>min</th>\n",
       "      <td>0.000000</td>\n",
       "      <td>0.000000</td>\n",
       "      <td>0.000000</td>\n",
       "      <td>0.000000</td>\n",
       "      <td>0.000000</td>\n",
       "      <td>0.000000</td>\n",
       "      <td>0.000000</td>\n",
       "      <td>0.000000</td>\n",
       "      <td>0.000000</td>\n",
       "      <td>0.00000</td>\n",
       "      <td>0.000000</td>\n",
       "      <td>0.000000</td>\n",
       "      <td>0.000000</td>\n",
       "      <td>0.000000</td>\n",
       "      <td>0.000000</td>\n",
       "      <td>0.000000</td>\n",
       "      <td>0.000000</td>\n",
       "      <td>0.000000</td>\n",
       "      <td>0.000000</td>\n",
       "      <td>0.000000</td>\n",
       "      <td>0.000000</td>\n",
       "      <td>0.000000</td>\n",
       "      <td>0.000000</td>\n",
       "      <td>0.000000</td>\n",
       "      <td>0.000000</td>\n",
       "      <td>0.000000</td>\n",
       "      <td>0.000000</td>\n",
       "      <td>0.000000</td>\n",
       "      <td>0.000000</td>\n",
       "      <td>0.000000</td>\n",
       "    </tr>\n",
       "    <tr>\n",
       "      <th>25%</th>\n",
       "      <td>0.000000</td>\n",
       "      <td>0.000000</td>\n",
       "      <td>0.000000</td>\n",
       "      <td>0.343347</td>\n",
       "      <td>0.345522</td>\n",
       "      <td>0.524581</td>\n",
       "      <td>0.197916</td>\n",
       "      <td>0.350523</td>\n",
       "      <td>0.000000</td>\n",
       "      <td>0.00000</td>\n",
       "      <td>0.000000</td>\n",
       "      <td>0.000000</td>\n",
       "      <td>0.000000</td>\n",
       "      <td>0.000000</td>\n",
       "      <td>0.000000</td>\n",
       "      <td>0.000000</td>\n",
       "      <td>0.000000</td>\n",
       "      <td>0.000000</td>\n",
       "      <td>0.000000</td>\n",
       "      <td>0.000000</td>\n",
       "      <td>0.000000</td>\n",
       "      <td>0.000000</td>\n",
       "      <td>0.000000</td>\n",
       "      <td>0.000000</td>\n",
       "      <td>0.000000</td>\n",
       "      <td>0.000000</td>\n",
       "      <td>0.000000</td>\n",
       "      <td>0.000000</td>\n",
       "      <td>0.000000</td>\n",
       "      <td>0.000000</td>\n",
       "    </tr>\n",
       "    <tr>\n",
       "      <th>50%</th>\n",
       "      <td>0.000000</td>\n",
       "      <td>0.000000</td>\n",
       "      <td>1.000000</td>\n",
       "      <td>0.553497</td>\n",
       "      <td>0.556759</td>\n",
       "      <td>0.648347</td>\n",
       "      <td>0.295422</td>\n",
       "      <td>0.516222</td>\n",
       "      <td>0.000000</td>\n",
       "      <td>0.00000</td>\n",
       "      <td>0.000000</td>\n",
       "      <td>0.000000</td>\n",
       "      <td>0.000000</td>\n",
       "      <td>0.000000</td>\n",
       "      <td>0.000000</td>\n",
       "      <td>0.000000</td>\n",
       "      <td>0.000000</td>\n",
       "      <td>0.000000</td>\n",
       "      <td>0.000000</td>\n",
       "      <td>0.000000</td>\n",
       "      <td>0.000000</td>\n",
       "      <td>0.000000</td>\n",
       "      <td>0.000000</td>\n",
       "      <td>0.000000</td>\n",
       "      <td>0.000000</td>\n",
       "      <td>0.000000</td>\n",
       "      <td>0.000000</td>\n",
       "      <td>0.000000</td>\n",
       "      <td>0.000000</td>\n",
       "      <td>0.000000</td>\n",
       "    </tr>\n",
       "    <tr>\n",
       "      <th>75%</th>\n",
       "      <td>1.000000</td>\n",
       "      <td>0.000000</td>\n",
       "      <td>1.000000</td>\n",
       "      <td>0.757231</td>\n",
       "      <td>0.732269</td>\n",
       "      <td>0.752576</td>\n",
       "      <td>0.406471</td>\n",
       "      <td>0.672141</td>\n",
       "      <td>1.000000</td>\n",
       "      <td>0.00000</td>\n",
       "      <td>0.750000</td>\n",
       "      <td>1.000000</td>\n",
       "      <td>0.000000</td>\n",
       "      <td>0.000000</td>\n",
       "      <td>0.000000</td>\n",
       "      <td>0.000000</td>\n",
       "      <td>0.000000</td>\n",
       "      <td>0.000000</td>\n",
       "      <td>0.000000</td>\n",
       "      <td>0.000000</td>\n",
       "      <td>0.000000</td>\n",
       "      <td>0.000000</td>\n",
       "      <td>0.000000</td>\n",
       "      <td>0.000000</td>\n",
       "      <td>0.000000</td>\n",
       "      <td>0.000000</td>\n",
       "      <td>0.000000</td>\n",
       "      <td>0.000000</td>\n",
       "      <td>0.000000</td>\n",
       "      <td>0.000000</td>\n",
       "    </tr>\n",
       "    <tr>\n",
       "      <th>max</th>\n",
       "      <td>1.000000</td>\n",
       "      <td>1.000000</td>\n",
       "      <td>1.000000</td>\n",
       "      <td>1.000000</td>\n",
       "      <td>1.000000</td>\n",
       "      <td>1.000000</td>\n",
       "      <td>1.000000</td>\n",
       "      <td>1.000000</td>\n",
       "      <td>1.000000</td>\n",
       "      <td>1.00000</td>\n",
       "      <td>1.000000</td>\n",
       "      <td>1.000000</td>\n",
       "      <td>1.000000</td>\n",
       "      <td>1.000000</td>\n",
       "      <td>1.000000</td>\n",
       "      <td>1.000000</td>\n",
       "      <td>1.000000</td>\n",
       "      <td>1.000000</td>\n",
       "      <td>1.000000</td>\n",
       "      <td>1.000000</td>\n",
       "      <td>1.000000</td>\n",
       "      <td>1.000000</td>\n",
       "      <td>1.000000</td>\n",
       "      <td>1.000000</td>\n",
       "      <td>1.000000</td>\n",
       "      <td>1.000000</td>\n",
       "      <td>1.000000</td>\n",
       "      <td>1.000000</td>\n",
       "      <td>1.000000</td>\n",
       "      <td>1.000000</td>\n",
       "    </tr>\n",
       "  </tbody>\n",
       "</table>\n",
       "</div>"
      ],
      "text/plain": [
       "               yr     holiday  workingday        temp       atemp         hum  \\\n",
       "count  510.000000  510.000000  510.000000  510.000000  510.000000  510.000000   \n",
       "mean     0.482353    0.023529    0.705882    0.552680    0.545242    0.644848   \n",
       "std      0.500179    0.151726    0.456092    0.230600    0.223322    0.149640   \n",
       "min      0.000000    0.000000    0.000000    0.000000    0.000000    0.000000   \n",
       "25%      0.000000    0.000000    0.000000    0.343347    0.345522    0.524581   \n",
       "50%      0.000000    0.000000    1.000000    0.553497    0.556759    0.648347   \n",
       "75%      1.000000    0.000000    1.000000    0.757231    0.732269    0.752576   \n",
       "max      1.000000    1.000000    1.000000    1.000000    1.000000    1.000000   \n",
       "\n",
       "        windspeed         cnt      summer       fall      winter  MistnCloudy  \\\n",
       "count  510.000000  510.000000  510.000000  510.00000  510.000000   510.000000   \n",
       "mean     0.318203    0.509945    0.254902    0.24902    0.250980     0.341176   \n",
       "std      0.167086    0.223408    0.436234    0.43287    0.434003     0.474570   \n",
       "min      0.000000    0.000000    0.000000    0.00000    0.000000     0.000000   \n",
       "25%      0.197916    0.350523    0.000000    0.00000    0.000000     0.000000   \n",
       "50%      0.295422    0.516222    0.000000    0.00000    0.000000     0.000000   \n",
       "75%      0.406471    0.672141    1.000000    0.00000    0.750000     1.000000   \n",
       "max      1.000000    1.000000    1.000000    1.00000    1.000000     1.000000   \n",
       "\n",
       "       LightSnownStorms         Feb         Mar         Apr         May  \\\n",
       "count        510.000000  510.000000  510.000000  510.000000  510.000000   \n",
       "mean           0.031373    0.076471    0.094118    0.074510    0.100000   \n",
       "std            0.174494    0.266010    0.292279    0.262857    0.300295   \n",
       "min            0.000000    0.000000    0.000000    0.000000    0.000000   \n",
       "25%            0.000000    0.000000    0.000000    0.000000    0.000000   \n",
       "50%            0.000000    0.000000    0.000000    0.000000    0.000000   \n",
       "75%            0.000000    0.000000    0.000000    0.000000    0.000000   \n",
       "max            1.000000    1.000000    1.000000    1.000000    1.000000   \n",
       "\n",
       "              Jun         Jul         Aug         Sep         Oct         Nov  \\\n",
       "count  510.000000  510.000000  510.000000  510.000000  510.000000  510.000000   \n",
       "mean     0.082353    0.078431    0.088235    0.064706    0.086275    0.086275   \n",
       "std      0.275172    0.269113    0.283915    0.246248    0.281045    0.281045   \n",
       "min      0.000000    0.000000    0.000000    0.000000    0.000000    0.000000   \n",
       "25%      0.000000    0.000000    0.000000    0.000000    0.000000    0.000000   \n",
       "50%      0.000000    0.000000    0.000000    0.000000    0.000000    0.000000   \n",
       "75%      0.000000    0.000000    0.000000    0.000000    0.000000    0.000000   \n",
       "max      1.000000    1.000000    1.000000    1.000000    1.000000    1.000000   \n",
       "\n",
       "              Dec   weekday_1   weekday_2   weekday_3   weekday_4   weekday_5  \\\n",
       "count  510.000000  510.000000  510.000000  510.000000  510.000000  510.000000   \n",
       "mean     0.094118    0.152941    0.149020    0.139216    0.145098    0.143137   \n",
       "std      0.292279    0.360284    0.356457    0.346511    0.352545    0.350557   \n",
       "min      0.000000    0.000000    0.000000    0.000000    0.000000    0.000000   \n",
       "25%      0.000000    0.000000    0.000000    0.000000    0.000000    0.000000   \n",
       "50%      0.000000    0.000000    0.000000    0.000000    0.000000    0.000000   \n",
       "75%      0.000000    0.000000    0.000000    0.000000    0.000000    0.000000   \n",
       "max      1.000000    1.000000    1.000000    1.000000    1.000000    1.000000   \n",
       "\n",
       "        weekday_6  \n",
       "count  510.000000  \n",
       "mean     0.135294  \n",
       "std      0.342373  \n",
       "min      0.000000  \n",
       "25%      0.000000  \n",
       "50%      0.000000  \n",
       "75%      0.000000  \n",
       "max      1.000000  "
      ]
     },
     "execution_count": 21,
     "metadata": {},
     "output_type": "execute_result"
    }
   ],
   "source": [
    "# create the scaler object\n",
    "\n",
    "scaler = MinMaxScaler()\n",
    "\n",
    "# we will scale all varibles except the dummy variables\n",
    "\n",
    "vars = ['temp', 'hum', 'windspeed', 'cnt', 'atemp']\n",
    "\n",
    "bikes_train[vars] = scaler.fit_transform(bikes_train[vars])\n",
    "\n",
    "# check the range of the values to confirm they have been scaled\n",
    "\n",
    "bikes_train.describe()"
   ]
  },
  {
   "cell_type": "markdown",
   "id": "91f15a32",
   "metadata": {},
   "source": [
    "**Observation**\n",
    "\n",
    "All values within 0 and 1, so scaling was done correctly."
   ]
  },
  {
   "cell_type": "markdown",
   "id": "0efefa46",
   "metadata": {},
   "source": [
    "## 12. Building a Linear Regression model"
   ]
  },
  {
   "cell_type": "markdown",
   "id": "0e1a0ce3",
   "metadata": {},
   "source": [
    "**Our approach will be to use RFE to remove un-important features and reduce the list to 15 variables.**\n",
    "\n",
    "\n",
    "**Then manually check and remove variables with high p value (i.e. low significance) and VIF (Variable Inflation Factor).**"
   ]
  },
  {
   "cell_type": "markdown",
   "id": "4cb32d5a",
   "metadata": {},
   "source": [
    "### 12.1 Use RFE to filter out variables\n"
   ]
  },
  {
   "cell_type": "code",
   "execution_count": 22,
   "id": "c07c011d",
   "metadata": {},
   "outputs": [
    {
     "data": {
      "text/plain": [
       "Index(['yr', 'holiday', 'workingday', 'temp', 'atemp', 'hum', 'windspeed',\n",
       "       'cnt', 'summer', 'fall', 'winter', 'MistnCloudy', 'LightSnownStorms',\n",
       "       'Feb', 'Mar', 'Apr', 'May', 'Jun', 'Jul', 'Aug', 'Sep', 'Oct', 'Nov',\n",
       "       'Dec', 'weekday_1', 'weekday_2', 'weekday_3', 'weekday_4', 'weekday_5',\n",
       "       'weekday_6'],\n",
       "      dtype='object')"
      ]
     },
     "execution_count": 22,
     "metadata": {},
     "output_type": "execute_result"
    }
   ],
   "source": [
    "# check the columns first\n",
    "\n",
    "bikes.columns"
   ]
  },
  {
   "cell_type": "code",
   "execution_count": 23,
   "id": "0091e35c",
   "metadata": {},
   "outputs": [],
   "source": [
    "# create object which will be used for RFE later on\n",
    "\n",
    "lm = LinearRegression()"
   ]
  },
  {
   "cell_type": "code",
   "execution_count": 24,
   "id": "829d65c2",
   "metadata": {},
   "outputs": [],
   "source": [
    "# build our y and X datasets for training\n",
    "\n",
    "y_train = bikes_train.pop('cnt')\n",
    "X_train = bikes_train"
   ]
  },
  {
   "cell_type": "code",
   "execution_count": 25,
   "id": "e084020a",
   "metadata": {},
   "outputs": [],
   "source": [
    "# instruct RFE to find 15 significant variables\n",
    "\n",
    "rfe = RFE(lm, 15)\n",
    "rfe = rfe.fit(X_train, y_train)"
   ]
  },
  {
   "cell_type": "code",
   "execution_count": 26,
   "id": "360b85b6",
   "metadata": {},
   "outputs": [
    {
     "data": {
      "text/plain": [
       "[('yr', True, 1),\n",
       " ('holiday', False, 8),\n",
       " ('workingday', True, 1),\n",
       " ('temp', True, 1),\n",
       " ('atemp', True, 1),\n",
       " ('hum', True, 1),\n",
       " ('windspeed', True, 1),\n",
       " ('summer', True, 1),\n",
       " ('fall', True, 1),\n",
       " ('winter', True, 1),\n",
       " ('MistnCloudy', True, 1),\n",
       " ('LightSnownStorms', True, 1),\n",
       " ('Feb', False, 7),\n",
       " ('Mar', True, 1),\n",
       " ('Apr', False, 4),\n",
       " ('May', False, 2),\n",
       " ('Jun', False, 3),\n",
       " ('Jul', False, 6),\n",
       " ('Aug', False, 5),\n",
       " ('Sep', True, 1),\n",
       " ('Oct', True, 1),\n",
       " ('Nov', False, 12),\n",
       " ('Dec', False, 13),\n",
       " ('weekday_1', False, 14),\n",
       " ('weekday_2', False, 15),\n",
       " ('weekday_3', False, 11),\n",
       " ('weekday_4', False, 10),\n",
       " ('weekday_5', False, 9),\n",
       " ('weekday_6', True, 1)]"
      ]
     },
     "execution_count": 26,
     "metadata": {},
     "output_type": "execute_result"
    }
   ],
   "source": [
    "# list out the variables in ranking order\n",
    "\n",
    "list(zip(X_train.columns, rfe.support_, rfe.ranking_))"
   ]
  },
  {
   "cell_type": "code",
   "execution_count": 27,
   "id": "2e330eea",
   "metadata": {},
   "outputs": [
    {
     "data": {
      "text/plain": [
       "Index(['yr', 'workingday', 'temp', 'atemp', 'hum', 'windspeed', 'summer',\n",
       "       'fall', 'winter', 'MistnCloudy', 'LightSnownStorms', 'Mar', 'Sep',\n",
       "       'Oct', 'weekday_6'],\n",
       "      dtype='object')"
      ]
     },
     "execution_count": 27,
     "metadata": {},
     "output_type": "execute_result"
    }
   ],
   "source": [
    "# columns which will be used for fitting or training\n",
    "\n",
    "col = X_train.columns[rfe.support_]\n",
    "col"
   ]
  },
  {
   "cell_type": "code",
   "execution_count": 28,
   "id": "f1a34063",
   "metadata": {},
   "outputs": [
    {
     "data": {
      "text/plain": [
       "Index(['holiday', 'Feb', 'Apr', 'May', 'Jun', 'Jul', 'Aug', 'Nov', 'Dec',\n",
       "       'weekday_1', 'weekday_2', 'weekday_3', 'weekday_4', 'weekday_5'],\n",
       "      dtype='object')"
      ]
     },
     "execution_count": 28,
     "metadata": {},
     "output_type": "execute_result"
    }
   ],
   "source": [
    "# columns which RFE deemed un-important\n",
    "\n",
    "X_train.columns[~rfe.support_]"
   ]
  },
  {
   "cell_type": "code",
   "execution_count": 29,
   "id": "f4523d11",
   "metadata": {},
   "outputs": [],
   "source": [
    "# get our final training dataset\n",
    "\n",
    "X_train_rfe = X_train[col]"
   ]
  },
  {
   "cell_type": "markdown",
   "id": "a1a27ec2",
   "metadata": {},
   "source": [
    "### 12.2 Trial Model # 1\n",
    "\n",
    "We will create our first trial model using the variables suggested by RFE.\n"
   ]
  },
  {
   "cell_type": "code",
   "execution_count": 30,
   "id": "8a40b251",
   "metadata": {},
   "outputs": [],
   "source": [
    "# add constant to the data set\n",
    "\n",
    "X_train_rfe = sm.add_constant(X_train_rfe)"
   ]
  },
  {
   "cell_type": "code",
   "execution_count": 31,
   "id": "09d4fb40",
   "metadata": {},
   "outputs": [],
   "source": [
    "# fit the data using OLS\n",
    "\n",
    "lm = sm.OLS(y_train, X_train_rfe).fit()"
   ]
  },
  {
   "cell_type": "code",
   "execution_count": 32,
   "id": "8cc8c280",
   "metadata": {},
   "outputs": [
    {
     "name": "stdout",
     "output_type": "stream",
     "text": [
      "                            OLS Regression Results                            \n",
      "==============================================================================\n",
      "Dep. Variable:                    cnt   R-squared:                       0.851\n",
      "Model:                            OLS   Adj. R-squared:                  0.847\n",
      "Method:                 Least Squares   F-statistic:                     188.4\n",
      "Date:                Wed, 12 Jan 2022   Prob (F-statistic):          3.14e-193\n",
      "Time:                        14:32:20   Log-Likelihood:                 527.04\n",
      "No. Observations:                 510   AIC:                            -1022.\n",
      "Df Residuals:                     494   BIC:                            -954.3\n",
      "Df Model:                          15                                         \n",
      "Covariance Type:            nonrobust                                         \n",
      "====================================================================================\n",
      "                       coef    std err          t      P>|t|      [0.025      0.975]\n",
      "------------------------------------------------------------------------------------\n",
      "const                0.2057      0.028      7.434      0.000       0.151       0.260\n",
      "yr                   0.2297      0.008     29.222      0.000       0.214       0.245\n",
      "workingday           0.0399      0.011      3.676      0.000       0.019       0.061\n",
      "temp                 0.4659      0.127      3.657      0.000       0.216       0.716\n",
      "atemp                0.0479      0.127      0.378      0.706      -0.201       0.297\n",
      "hum                 -0.2201      0.037     -5.975      0.000      -0.293      -0.148\n",
      "windspeed           -0.1941      0.026     -7.569      0.000      -0.244      -0.144\n",
      "summer               0.1242      0.015      8.160      0.000       0.094       0.154\n",
      "fall                 0.0643      0.021      3.032      0.003       0.023       0.106\n",
      "winter               0.1564      0.014     11.530      0.000       0.130       0.183\n",
      "MistnCloudy         -0.0430      0.011     -4.093      0.000      -0.064      -0.022\n",
      "LightSnownStorms    -0.2110      0.026     -8.241      0.000      -0.261      -0.161\n",
      "Mar                  0.0257      0.014      1.787      0.075      -0.003       0.054\n",
      "Sep                  0.0859      0.017      5.017      0.000       0.052       0.120\n",
      "Oct                  0.0467      0.017      2.744      0.006       0.013       0.080\n",
      "weekday_6            0.0570      0.014      3.934      0.000       0.029       0.085\n",
      "==============================================================================\n",
      "Omnibus:                       86.731   Durbin-Watson:                   2.012\n",
      "Prob(Omnibus):                  0.000   Jarque-Bera (JB):              218.554\n",
      "Skew:                          -0.859   Prob(JB):                     3.48e-48\n",
      "Kurtosis:                       5.708   Cond. No.                         83.7\n",
      "==============================================================================\n",
      "\n",
      "Notes:\n",
      "[1] Standard Errors assume that the covariance matrix of the errors is correctly specified.\n"
     ]
    }
   ],
   "source": [
    "# print the summary\n",
    "\n",
    "print(lm.summary())"
   ]
  },
  {
   "cell_type": "code",
   "execution_count": 33,
   "id": "b7e9e4c8",
   "metadata": {
    "scrolled": false
   },
   "outputs": [
    {
     "data": {
      "text/html": [
       "<div>\n",
       "<style scoped>\n",
       "    .dataframe tbody tr th:only-of-type {\n",
       "        vertical-align: middle;\n",
       "    }\n",
       "\n",
       "    .dataframe tbody tr th {\n",
       "        vertical-align: top;\n",
       "    }\n",
       "\n",
       "    .dataframe thead th {\n",
       "        text-align: right;\n",
       "    }\n",
       "</style>\n",
       "<table border=\"1\" class=\"dataframe\">\n",
       "  <thead>\n",
       "    <tr style=\"text-align: right;\">\n",
       "      <th></th>\n",
       "      <th>Features</th>\n",
       "      <th>VIF</th>\n",
       "    </tr>\n",
       "  </thead>\n",
       "  <tbody>\n",
       "    <tr>\n",
       "      <th>2</th>\n",
       "      <td>temp</td>\n",
       "      <td>387.87</td>\n",
       "    </tr>\n",
       "    <tr>\n",
       "      <th>3</th>\n",
       "      <td>atemp</td>\n",
       "      <td>371.93</td>\n",
       "    </tr>\n",
       "    <tr>\n",
       "      <th>4</th>\n",
       "      <td>hum</td>\n",
       "      <td>18.62</td>\n",
       "    </tr>\n",
       "    <tr>\n",
       "      <th>7</th>\n",
       "      <td>fall</td>\n",
       "      <td>7.45</td>\n",
       "    </tr>\n",
       "    <tr>\n",
       "      <th>1</th>\n",
       "      <td>workingday</td>\n",
       "      <td>5.02</td>\n",
       "    </tr>\n",
       "    <tr>\n",
       "      <th>5</th>\n",
       "      <td>windspeed</td>\n",
       "      <td>4.06</td>\n",
       "    </tr>\n",
       "    <tr>\n",
       "      <th>6</th>\n",
       "      <td>summer</td>\n",
       "      <td>3.93</td>\n",
       "    </tr>\n",
       "    <tr>\n",
       "      <th>8</th>\n",
       "      <td>winter</td>\n",
       "      <td>3.03</td>\n",
       "    </tr>\n",
       "    <tr>\n",
       "      <th>9</th>\n",
       "      <td>MistnCloudy</td>\n",
       "      <td>2.25</td>\n",
       "    </tr>\n",
       "    <tr>\n",
       "      <th>0</th>\n",
       "      <td>yr</td>\n",
       "      <td>1.92</td>\n",
       "    </tr>\n",
       "    <tr>\n",
       "      <th>14</th>\n",
       "      <td>weekday_6</td>\n",
       "      <td>1.78</td>\n",
       "    </tr>\n",
       "    <tr>\n",
       "      <th>13</th>\n",
       "      <td>Oct</td>\n",
       "      <td>1.65</td>\n",
       "    </tr>\n",
       "    <tr>\n",
       "      <th>11</th>\n",
       "      <td>Mar</td>\n",
       "      <td>1.27</td>\n",
       "    </tr>\n",
       "    <tr>\n",
       "      <th>12</th>\n",
       "      <td>Sep</td>\n",
       "      <td>1.25</td>\n",
       "    </tr>\n",
       "    <tr>\n",
       "      <th>10</th>\n",
       "      <td>LightSnownStorms</td>\n",
       "      <td>1.24</td>\n",
       "    </tr>\n",
       "  </tbody>\n",
       "</table>\n",
       "</div>"
      ],
      "text/plain": [
       "            Features     VIF\n",
       "2               temp  387.87\n",
       "3              atemp  371.93\n",
       "4                hum   18.62\n",
       "7               fall    7.45\n",
       "1         workingday    5.02\n",
       "5          windspeed    4.06\n",
       "6             summer    3.93\n",
       "8             winter    3.03\n",
       "9        MistnCloudy    2.25\n",
       "0                 yr    1.92\n",
       "14         weekday_6    1.78\n",
       "13               Oct    1.65\n",
       "11               Mar    1.27\n",
       "12               Sep    1.25\n",
       "10  LightSnownStorms    1.24"
      ]
     },
     "execution_count": 33,
     "metadata": {},
     "output_type": "execute_result"
    }
   ],
   "source": [
    "#  find the VIF of the variables\n",
    "\n",
    "X_train_new = X_train_rfe.drop('const', axis=1)\n",
    "vif = pd.DataFrame()\n",
    "vif['Features'] = X_train_new.columns\n",
    "vif['VIF'] = [variance_inflation_factor(X_train_new.values, i) for i in range(X_train_new.shape[1])]\n",
    "vif['VIF'] = round(vif['VIF'], 2)\n",
    "vif = vif.sort_values(by = \"VIF\", ascending = False)\n",
    "vif"
   ]
  },
  {
   "cell_type": "markdown",
   "id": "a693a8e2",
   "metadata": {},
   "source": [
    "**Obeservations**\n",
    "\n",
    "1. The R square is good at 0.85 .\n",
    "\n",
    "\n",
    "2. But there are certain variables like atemp, Mar which have p value greater than 0.05. So they are statistically insignificant.\n",
    "\n",
    "\n",
    "3. There are variables with very high VIF such as hum, temp, atemp and fall.\n",
    "\n",
    "\n",
    "4. We will first drop variables with high p-value one bye one.\n",
    "\n"
   ]
  },
  {
   "cell_type": "markdown",
   "id": "ce0832e6",
   "metadata": {},
   "source": [
    "### 12.3 Trial Model # 2\n",
    "\n",
    "We will drop atemp variable as it has p-value > 0.05"
   ]
  },
  {
   "cell_type": "code",
   "execution_count": 34,
   "id": "9c94e692",
   "metadata": {},
   "outputs": [
    {
     "name": "stdout",
     "output_type": "stream",
     "text": [
      "                            OLS Regression Results                            \n",
      "==============================================================================\n",
      "Dep. Variable:                    cnt   R-squared:                       0.851\n",
      "Model:                            OLS   Adj. R-squared:                  0.847\n",
      "Method:                 Least Squares   F-statistic:                     202.2\n",
      "Date:                Wed, 12 Jan 2022   Prob (F-statistic):          2.33e-194\n",
      "Time:                        14:32:20   Log-Likelihood:                 526.96\n",
      "No. Observations:                 510   AIC:                            -1024.\n",
      "Df Residuals:                     495   BIC:                            -960.4\n",
      "Df Model:                          14                                         \n",
      "Covariance Type:            nonrobust                                         \n",
      "====================================================================================\n",
      "                       coef    std err          t      P>|t|      [0.025      0.975]\n",
      "------------------------------------------------------------------------------------\n",
      "const                0.2061      0.028      7.458      0.000       0.152       0.260\n",
      "yr                   0.2297      0.008     29.245      0.000       0.214       0.245\n",
      "workingday           0.0399      0.011      3.674      0.000       0.019       0.061\n",
      "temp                 0.5123      0.033     15.308      0.000       0.447       0.578\n",
      "hum                 -0.2190      0.037     -5.969      0.000      -0.291      -0.147\n",
      "windspeed           -0.1958      0.025     -7.752      0.000      -0.245      -0.146\n",
      "summer               0.1245      0.015      8.195      0.000       0.095       0.154\n",
      "fall                 0.0637      0.021      3.015      0.003       0.022       0.105\n",
      "winter               0.1567      0.014     11.577      0.000       0.130       0.183\n",
      "MistnCloudy         -0.0432      0.010     -4.117      0.000      -0.064      -0.023\n",
      "LightSnownStorms    -0.2118      0.025     -8.308      0.000      -0.262      -0.162\n",
      "Mar                  0.0259      0.014      1.805      0.072      -0.002       0.054\n",
      "Sep                  0.0861      0.017      5.033      0.000       0.052       0.120\n",
      "Oct                  0.0468      0.017      2.752      0.006       0.013       0.080\n",
      "weekday_6            0.0569      0.014      3.933      0.000       0.028       0.085\n",
      "==============================================================================\n",
      "Omnibus:                       86.518   Durbin-Watson:                   2.013\n",
      "Prob(Omnibus):                  0.000   Jarque-Bera (JB):              217.997\n",
      "Skew:                          -0.857   Prob(JB):                     4.60e-48\n",
      "Kurtosis:                       5.706   Cond. No.                         21.3\n",
      "==============================================================================\n",
      "\n",
      "Notes:\n",
      "[1] Standard Errors assume that the covariance matrix of the errors is correctly specified.\n"
     ]
    }
   ],
   "source": [
    "X_train_rfe = X_train_rfe.drop('atemp', axis=1)\n",
    "\n",
    "lm = sm.OLS(y_train, X_train_rfe).fit()\n",
    "\n",
    "# check the summary of the model\n",
    "\n",
    "print(lm.summary())"
   ]
  },
  {
   "cell_type": "code",
   "execution_count": 35,
   "id": "72eeafa8",
   "metadata": {
    "scrolled": true
   },
   "outputs": [
    {
     "data": {
      "text/html": [
       "<div>\n",
       "<style scoped>\n",
       "    .dataframe tbody tr th:only-of-type {\n",
       "        vertical-align: middle;\n",
       "    }\n",
       "\n",
       "    .dataframe tbody tr th {\n",
       "        vertical-align: top;\n",
       "    }\n",
       "\n",
       "    .dataframe thead th {\n",
       "        text-align: right;\n",
       "    }\n",
       "</style>\n",
       "<table border=\"1\" class=\"dataframe\">\n",
       "  <thead>\n",
       "    <tr style=\"text-align: right;\">\n",
       "      <th></th>\n",
       "      <th>Features</th>\n",
       "      <th>VIF</th>\n",
       "    </tr>\n",
       "  </thead>\n",
       "  <tbody>\n",
       "    <tr>\n",
       "      <th>2</th>\n",
       "      <td>temp</td>\n",
       "      <td>25.98</td>\n",
       "    </tr>\n",
       "    <tr>\n",
       "      <th>3</th>\n",
       "      <td>hum</td>\n",
       "      <td>18.15</td>\n",
       "    </tr>\n",
       "    <tr>\n",
       "      <th>6</th>\n",
       "      <td>fall</td>\n",
       "      <td>7.41</td>\n",
       "    </tr>\n",
       "    <tr>\n",
       "      <th>1</th>\n",
       "      <td>workingday</td>\n",
       "      <td>5.02</td>\n",
       "    </tr>\n",
       "    <tr>\n",
       "      <th>4</th>\n",
       "      <td>windspeed</td>\n",
       "      <td>3.93</td>\n",
       "    </tr>\n",
       "    <tr>\n",
       "      <th>5</th>\n",
       "      <td>summer</td>\n",
       "      <td>3.93</td>\n",
       "    </tr>\n",
       "    <tr>\n",
       "      <th>7</th>\n",
       "      <td>winter</td>\n",
       "      <td>3.02</td>\n",
       "    </tr>\n",
       "    <tr>\n",
       "      <th>8</th>\n",
       "      <td>MistnCloudy</td>\n",
       "      <td>2.24</td>\n",
       "    </tr>\n",
       "    <tr>\n",
       "      <th>0</th>\n",
       "      <td>yr</td>\n",
       "      <td>1.92</td>\n",
       "    </tr>\n",
       "    <tr>\n",
       "      <th>13</th>\n",
       "      <td>weekday_6</td>\n",
       "      <td>1.78</td>\n",
       "    </tr>\n",
       "    <tr>\n",
       "      <th>12</th>\n",
       "      <td>Oct</td>\n",
       "      <td>1.65</td>\n",
       "    </tr>\n",
       "    <tr>\n",
       "      <th>10</th>\n",
       "      <td>Mar</td>\n",
       "      <td>1.26</td>\n",
       "    </tr>\n",
       "    <tr>\n",
       "      <th>11</th>\n",
       "      <td>Sep</td>\n",
       "      <td>1.25</td>\n",
       "    </tr>\n",
       "    <tr>\n",
       "      <th>9</th>\n",
       "      <td>LightSnownStorms</td>\n",
       "      <td>1.23</td>\n",
       "    </tr>\n",
       "  </tbody>\n",
       "</table>\n",
       "</div>"
      ],
      "text/plain": [
       "            Features    VIF\n",
       "2               temp  25.98\n",
       "3                hum  18.15\n",
       "6               fall   7.41\n",
       "1         workingday   5.02\n",
       "4          windspeed   3.93\n",
       "5             summer   3.93\n",
       "7             winter   3.02\n",
       "8        MistnCloudy   2.24\n",
       "0                 yr   1.92\n",
       "13         weekday_6   1.78\n",
       "12               Oct   1.65\n",
       "10               Mar   1.26\n",
       "11               Sep   1.25\n",
       "9   LightSnownStorms   1.23"
      ]
     },
     "execution_count": 35,
     "metadata": {},
     "output_type": "execute_result"
    }
   ],
   "source": [
    "#  find the VIF of the variables\n",
    "\n",
    "X_train_new = X_train_rfe.drop('const', axis=1)\n",
    "vif = pd.DataFrame()\n",
    "vif['Features'] = X_train_new.columns\n",
    "vif['VIF'] = [variance_inflation_factor(X_train_new.values, i) for i in range(X_train_new.shape[1])]\n",
    "vif['VIF'] = round(vif['VIF'], 2)\n",
    "vif = vif.sort_values(by = \"VIF\", ascending = False)\n",
    "vif"
   ]
  },
  {
   "cell_type": "markdown",
   "id": "b44ec8c5",
   "metadata": {},
   "source": [
    "**Obeservations**\n",
    "\n",
    "1. The R square is good at 0.85 .\n",
    "\n",
    "\n",
    "3. Mar has high p-value 0.07, so we will drop it next."
   ]
  },
  {
   "cell_type": "markdown",
   "id": "9ac655bf",
   "metadata": {},
   "source": [
    "### 12.4 Trial Model # 3\n",
    "\n",
    "We will Mar variable as it has high p-value 0.07 which is greater than 0.05"
   ]
  },
  {
   "cell_type": "code",
   "execution_count": 36,
   "id": "02049d7b",
   "metadata": {},
   "outputs": [
    {
     "name": "stdout",
     "output_type": "stream",
     "text": [
      "                            OLS Regression Results                            \n",
      "==============================================================================\n",
      "Dep. Variable:                    cnt   R-squared:                       0.850\n",
      "Model:                            OLS   Adj. R-squared:                  0.846\n",
      "Method:                 Least Squares   F-statistic:                     216.5\n",
      "Date:                Wed, 12 Jan 2022   Prob (F-statistic):          7.80e-195\n",
      "Time:                        14:32:20   Log-Likelihood:                 525.29\n",
      "No. Observations:                 510   AIC:                            -1023.\n",
      "Df Residuals:                     496   BIC:                            -963.3\n",
      "Df Model:                          13                                         \n",
      "Covariance Type:            nonrobust                                         \n",
      "====================================================================================\n",
      "                       coef    std err          t      P>|t|      [0.025      0.975]\n",
      "------------------------------------------------------------------------------------\n",
      "const                0.2136      0.027      7.802      0.000       0.160       0.267\n",
      "yr                   0.2293      0.008     29.143      0.000       0.214       0.245\n",
      "workingday           0.0406      0.011      3.739      0.000       0.019       0.062\n",
      "temp                 0.5147      0.034     15.358      0.000       0.449       0.581\n",
      "hum                 -0.2233      0.037     -6.088      0.000      -0.295      -0.151\n",
      "windspeed           -0.1941      0.025     -7.675      0.000      -0.244      -0.144\n",
      "summer               0.1200      0.015      7.990      0.000       0.091       0.150\n",
      "fall                 0.0559      0.021      2.698      0.007       0.015       0.097\n",
      "winter               0.1499      0.013     11.499      0.000       0.124       0.176\n",
      "MistnCloudy         -0.0427      0.011     -4.063      0.000      -0.063      -0.022\n",
      "LightSnownStorms    -0.2097      0.026     -8.215      0.000      -0.260      -0.160\n",
      "Sep                  0.0864      0.017      5.042      0.000       0.053       0.120\n",
      "Oct                  0.0466      0.017      2.732      0.007       0.013       0.080\n",
      "weekday_6            0.0570      0.014      3.932      0.000       0.029       0.085\n",
      "==============================================================================\n",
      "Omnibus:                       83.899   Durbin-Watson:                   2.008\n",
      "Prob(Omnibus):                  0.000   Jarque-Bera (JB):              220.739\n",
      "Skew:                          -0.818   Prob(JB):                     1.17e-48\n",
      "Kurtosis:                       5.777   Cond. No.                         21.2\n",
      "==============================================================================\n",
      "\n",
      "Notes:\n",
      "[1] Standard Errors assume that the covariance matrix of the errors is correctly specified.\n"
     ]
    }
   ],
   "source": [
    "X_train_rfe = X_train_rfe.drop('Mar', axis=1)\n",
    "\n",
    "lm = sm.OLS(y_train, X_train_rfe).fit()\n",
    "\n",
    "# check the summary of the model\n",
    "\n",
    "print(lm.summary())"
   ]
  },
  {
   "cell_type": "code",
   "execution_count": 37,
   "id": "1f405f26",
   "metadata": {},
   "outputs": [
    {
     "data": {
      "text/html": [
       "<div>\n",
       "<style scoped>\n",
       "    .dataframe tbody tr th:only-of-type {\n",
       "        vertical-align: middle;\n",
       "    }\n",
       "\n",
       "    .dataframe tbody tr th {\n",
       "        vertical-align: top;\n",
       "    }\n",
       "\n",
       "    .dataframe thead th {\n",
       "        text-align: right;\n",
       "    }\n",
       "</style>\n",
       "<table border=\"1\" class=\"dataframe\">\n",
       "  <thead>\n",
       "    <tr style=\"text-align: right;\">\n",
       "      <th></th>\n",
       "      <th>Features</th>\n",
       "      <th>VIF</th>\n",
       "    </tr>\n",
       "  </thead>\n",
       "  <tbody>\n",
       "    <tr>\n",
       "      <th>2</th>\n",
       "      <td>temp</td>\n",
       "      <td>25.86</td>\n",
       "    </tr>\n",
       "    <tr>\n",
       "      <th>3</th>\n",
       "      <td>hum</td>\n",
       "      <td>18.07</td>\n",
       "    </tr>\n",
       "    <tr>\n",
       "      <th>6</th>\n",
       "      <td>fall</td>\n",
       "      <td>7.08</td>\n",
       "    </tr>\n",
       "    <tr>\n",
       "      <th>1</th>\n",
       "      <td>workingday</td>\n",
       "      <td>4.98</td>\n",
       "    </tr>\n",
       "    <tr>\n",
       "      <th>4</th>\n",
       "      <td>windspeed</td>\n",
       "      <td>3.86</td>\n",
       "    </tr>\n",
       "    <tr>\n",
       "      <th>5</th>\n",
       "      <td>summer</td>\n",
       "      <td>3.82</td>\n",
       "    </tr>\n",
       "    <tr>\n",
       "      <th>7</th>\n",
       "      <td>winter</td>\n",
       "      <td>2.82</td>\n",
       "    </tr>\n",
       "    <tr>\n",
       "      <th>8</th>\n",
       "      <td>MistnCloudy</td>\n",
       "      <td>2.24</td>\n",
       "    </tr>\n",
       "    <tr>\n",
       "      <th>0</th>\n",
       "      <td>yr</td>\n",
       "      <td>1.92</td>\n",
       "    </tr>\n",
       "    <tr>\n",
       "      <th>12</th>\n",
       "      <td>weekday_6</td>\n",
       "      <td>1.77</td>\n",
       "    </tr>\n",
       "    <tr>\n",
       "      <th>11</th>\n",
       "      <td>Oct</td>\n",
       "      <td>1.65</td>\n",
       "    </tr>\n",
       "    <tr>\n",
       "      <th>10</th>\n",
       "      <td>Sep</td>\n",
       "      <td>1.25</td>\n",
       "    </tr>\n",
       "    <tr>\n",
       "      <th>9</th>\n",
       "      <td>LightSnownStorms</td>\n",
       "      <td>1.23</td>\n",
       "    </tr>\n",
       "  </tbody>\n",
       "</table>\n",
       "</div>"
      ],
      "text/plain": [
       "            Features    VIF\n",
       "2               temp  25.86\n",
       "3                hum  18.07\n",
       "6               fall   7.08\n",
       "1         workingday   4.98\n",
       "4          windspeed   3.86\n",
       "5             summer   3.82\n",
       "7             winter   2.82\n",
       "8        MistnCloudy   2.24\n",
       "0                 yr   1.92\n",
       "12         weekday_6   1.77\n",
       "11               Oct   1.65\n",
       "10               Sep   1.25\n",
       "9   LightSnownStorms   1.23"
      ]
     },
     "execution_count": 37,
     "metadata": {},
     "output_type": "execute_result"
    }
   ],
   "source": [
    "#  find the VIF of the variables\n",
    "\n",
    "X_train_new = X_train_rfe.drop('const', axis=1)\n",
    "vif = pd.DataFrame()\n",
    "vif['Features'] = X_train_new.columns\n",
    "vif['VIF'] = [variance_inflation_factor(X_train_new.values, i) for i in range(X_train_new.shape[1])]\n",
    "vif['VIF'] = round(vif['VIF'], 2)\n",
    "vif = vif.sort_values(by = \"VIF\", ascending = False)\n",
    "vif"
   ]
  },
  {
   "cell_type": "markdown",
   "id": "fe133813",
   "metadata": {},
   "source": [
    "Since we still have temp with VIF > 5, we will drop next insignificant variable with high VIF but with low correlation.\n",
    "And that is workigday."
   ]
  },
  {
   "cell_type": "markdown",
   "id": "44826ad6",
   "metadata": {},
   "source": [
    "### 12.5 Trial Model # 4\n",
    "\n",
    "We will drop **workingday** first as it has high VIF of 4.98 but low coefficient 0.0406"
   ]
  },
  {
   "cell_type": "code",
   "execution_count": 38,
   "id": "72ae4a40",
   "metadata": {},
   "outputs": [
    {
     "name": "stdout",
     "output_type": "stream",
     "text": [
      "                            OLS Regression Results                            \n",
      "==============================================================================\n",
      "Dep. Variable:                    cnt   R-squared:                       0.846\n",
      "Model:                            OLS   Adj. R-squared:                  0.842\n",
      "Method:                 Least Squares   F-statistic:                     227.5\n",
      "Date:                Wed, 12 Jan 2022   Prob (F-statistic):          4.86e-193\n",
      "Time:                        14:32:20   Log-Likelihood:                 518.20\n",
      "No. Observations:                 510   AIC:                            -1010.\n",
      "Df Residuals:                     497   BIC:                            -955.4\n",
      "Df Model:                          12                                         \n",
      "Covariance Type:            nonrobust                                         \n",
      "====================================================================================\n",
      "                       coef    std err          t      P>|t|      [0.025      0.975]\n",
      "------------------------------------------------------------------------------------\n",
      "const                0.2460      0.026      9.351      0.000       0.194       0.298\n",
      "yr                   0.2295      0.008     28.793      0.000       0.214       0.245\n",
      "temp                 0.5173      0.034     15.239      0.000       0.451       0.584\n",
      "hum                 -0.2252      0.037     -6.061      0.000      -0.298      -0.152\n",
      "windspeed           -0.1969      0.026     -7.687      0.000      -0.247      -0.147\n",
      "summer               0.1206      0.015      7.927      0.000       0.091       0.151\n",
      "fall                 0.0560      0.021      2.668      0.008       0.015       0.097\n",
      "winter               0.1496      0.013     11.326      0.000       0.124       0.176\n",
      "MistnCloudy         -0.0396      0.011     -3.729      0.000      -0.060      -0.019\n",
      "LightSnownStorms    -0.2015      0.026     -7.821      0.000      -0.252      -0.151\n",
      "Sep                  0.0870      0.017      5.011      0.000       0.053       0.121\n",
      "Oct                  0.0458      0.017      2.650      0.008       0.012       0.080\n",
      "weekday_6            0.0237      0.012      2.047      0.041       0.001       0.047\n",
      "==============================================================================\n",
      "Omnibus:                       84.566   Durbin-Watson:                   1.996\n",
      "Prob(Omnibus):                  0.000   Jarque-Bera (JB):              205.683\n",
      "Skew:                          -0.851   Prob(JB):                     2.17e-45\n",
      "Kurtosis:                       5.605   Cond. No.                         19.1\n",
      "==============================================================================\n",
      "\n",
      "Notes:\n",
      "[1] Standard Errors assume that the covariance matrix of the errors is correctly specified.\n"
     ]
    }
   ],
   "source": [
    "X_train_rfe = X_train_rfe.drop('workingday', axis=1)\n",
    "\n",
    "lm = sm.OLS(y_train, X_train_rfe).fit()\n",
    "\n",
    "# check the summary of the model\n",
    "\n",
    "print(lm.summary())"
   ]
  },
  {
   "cell_type": "code",
   "execution_count": 39,
   "id": "4cb10830",
   "metadata": {},
   "outputs": [
    {
     "data": {
      "text/html": [
       "<div>\n",
       "<style scoped>\n",
       "    .dataframe tbody tr th:only-of-type {\n",
       "        vertical-align: middle;\n",
       "    }\n",
       "\n",
       "    .dataframe tbody tr th {\n",
       "        vertical-align: top;\n",
       "    }\n",
       "\n",
       "    .dataframe thead th {\n",
       "        text-align: right;\n",
       "    }\n",
       "</style>\n",
       "<table border=\"1\" class=\"dataframe\">\n",
       "  <thead>\n",
       "    <tr style=\"text-align: right;\">\n",
       "      <th></th>\n",
       "      <th>Features</th>\n",
       "      <th>VIF</th>\n",
       "    </tr>\n",
       "  </thead>\n",
       "  <tbody>\n",
       "    <tr>\n",
       "      <th>1</th>\n",
       "      <td>temp</td>\n",
       "      <td>25.67</td>\n",
       "    </tr>\n",
       "    <tr>\n",
       "      <th>2</th>\n",
       "      <td>hum</td>\n",
       "      <td>15.99</td>\n",
       "    </tr>\n",
       "    <tr>\n",
       "      <th>5</th>\n",
       "      <td>fall</td>\n",
       "      <td>7.08</td>\n",
       "    </tr>\n",
       "    <tr>\n",
       "      <th>4</th>\n",
       "      <td>summer</td>\n",
       "      <td>3.82</td>\n",
       "    </tr>\n",
       "    <tr>\n",
       "      <th>3</th>\n",
       "      <td>windspeed</td>\n",
       "      <td>3.73</td>\n",
       "    </tr>\n",
       "    <tr>\n",
       "      <th>6</th>\n",
       "      <td>winter</td>\n",
       "      <td>2.82</td>\n",
       "    </tr>\n",
       "    <tr>\n",
       "      <th>7</th>\n",
       "      <td>MistnCloudy</td>\n",
       "      <td>2.24</td>\n",
       "    </tr>\n",
       "    <tr>\n",
       "      <th>0</th>\n",
       "      <td>yr</td>\n",
       "      <td>1.91</td>\n",
       "    </tr>\n",
       "    <tr>\n",
       "      <th>10</th>\n",
       "      <td>Oct</td>\n",
       "      <td>1.64</td>\n",
       "    </tr>\n",
       "    <tr>\n",
       "      <th>9</th>\n",
       "      <td>Sep</td>\n",
       "      <td>1.24</td>\n",
       "    </tr>\n",
       "    <tr>\n",
       "      <th>8</th>\n",
       "      <td>LightSnownStorms</td>\n",
       "      <td>1.23</td>\n",
       "    </tr>\n",
       "    <tr>\n",
       "      <th>11</th>\n",
       "      <td>weekday_6</td>\n",
       "      <td>1.17</td>\n",
       "    </tr>\n",
       "  </tbody>\n",
       "</table>\n",
       "</div>"
      ],
      "text/plain": [
       "            Features    VIF\n",
       "1               temp  25.67\n",
       "2                hum  15.99\n",
       "5               fall   7.08\n",
       "4             summer   3.82\n",
       "3          windspeed   3.73\n",
       "6             winter   2.82\n",
       "7        MistnCloudy   2.24\n",
       "0                 yr   1.91\n",
       "10               Oct   1.64\n",
       "9                Sep   1.24\n",
       "8   LightSnownStorms   1.23\n",
       "11         weekday_6   1.17"
      ]
     },
     "execution_count": 39,
     "metadata": {},
     "output_type": "execute_result"
    }
   ],
   "source": [
    "#  find the VIF of the variables\n",
    "\n",
    "X_train_new = X_train_rfe.drop('const', axis=1)\n",
    "vif = pd.DataFrame()\n",
    "vif['Features'] = X_train_new.columns\n",
    "vif['VIF'] = [variance_inflation_factor(X_train_new.values, i) for i in range(X_train_new.shape[1])]\n",
    "vif['VIF'] = round(vif['VIF'], 2)\n",
    "vif = vif.sort_values(by = \"VIF\", ascending = False)\n",
    "vif"
   ]
  },
  {
   "cell_type": "markdown",
   "id": "0bef8fcf",
   "metadata": {},
   "source": [
    "### 12.6 Trial Model # 5\n",
    "\n",
    "We will drop **fall** next as it has high VIF of 7.98 but low coefficient 0.0506"
   ]
  },
  {
   "cell_type": "code",
   "execution_count": 40,
   "id": "756f8d8e",
   "metadata": {},
   "outputs": [
    {
     "name": "stdout",
     "output_type": "stream",
     "text": [
      "                            OLS Regression Results                            \n",
      "==============================================================================\n",
      "Dep. Variable:                    cnt   R-squared:                       0.844\n",
      "Model:                            OLS   Adj. R-squared:                  0.840\n",
      "Method:                 Least Squares   F-statistic:                     244.5\n",
      "Date:                Wed, 12 Jan 2022   Prob (F-statistic):          1.03e-192\n",
      "Time:                        14:32:20   Log-Likelihood:                 514.58\n",
      "No. Observations:                 510   AIC:                            -1005.\n",
      "Df Residuals:                     498   BIC:                            -954.3\n",
      "Df Model:                          11                                         \n",
      "Covariance Type:            nonrobust                                         \n",
      "====================================================================================\n",
      "                       coef    std err          t      P>|t|      [0.025      0.975]\n",
      "------------------------------------------------------------------------------------\n",
      "const                0.2411      0.026      9.132      0.000       0.189       0.293\n",
      "yr                   0.2277      0.008     28.496      0.000       0.212       0.243\n",
      "temp                 0.5912      0.020     29.956      0.000       0.552       0.630\n",
      "hum                 -0.2374      0.037     -6.399      0.000      -0.310      -0.165\n",
      "windspeed           -0.2044      0.026     -7.980      0.000      -0.255      -0.154\n",
      "summer               0.0898      0.010      9.016      0.000       0.070       0.109\n",
      "winter               0.1341      0.012     11.238      0.000       0.111       0.158\n",
      "MistnCloudy         -0.0380      0.011     -3.570      0.000      -0.059      -0.017\n",
      "LightSnownStorms    -0.1960      0.026     -7.586      0.000      -0.247      -0.145\n",
      "Sep                  0.0970      0.017      5.685      0.000       0.063       0.131\n",
      "Oct                  0.0369      0.017      2.163      0.031       0.003       0.070\n",
      "weekday_6            0.0258      0.012      2.212      0.027       0.003       0.049\n",
      "==============================================================================\n",
      "Omnibus:                       74.460   Durbin-Watson:                   1.987\n",
      "Prob(Omnibus):                  0.000   Jarque-Bera (JB):              156.099\n",
      "Skew:                          -0.806   Prob(JB):                     1.27e-34\n",
      "Kurtosis:                       5.178   Cond. No.                         18.5\n",
      "==============================================================================\n",
      "\n",
      "Notes:\n",
      "[1] Standard Errors assume that the covariance matrix of the errors is correctly specified.\n"
     ]
    }
   ],
   "source": [
    "X_train_rfe = X_train_rfe.drop('fall', axis=1)\n",
    "\n",
    "lm = sm.OLS(y_train, X_train_rfe).fit()\n",
    "\n",
    "# check the summary of the model\n",
    "\n",
    "print(lm.summary())"
   ]
  },
  {
   "cell_type": "code",
   "execution_count": 41,
   "id": "53eaa903",
   "metadata": {},
   "outputs": [
    {
     "data": {
      "text/html": [
       "<div>\n",
       "<style scoped>\n",
       "    .dataframe tbody tr th:only-of-type {\n",
       "        vertical-align: middle;\n",
       "    }\n",
       "\n",
       "    .dataframe tbody tr th {\n",
       "        vertical-align: top;\n",
       "    }\n",
       "\n",
       "    .dataframe thead th {\n",
       "        text-align: right;\n",
       "    }\n",
       "</style>\n",
       "<table border=\"1\" class=\"dataframe\">\n",
       "  <thead>\n",
       "    <tr style=\"text-align: right;\">\n",
       "      <th></th>\n",
       "      <th>Features</th>\n",
       "      <th>VIF</th>\n",
       "    </tr>\n",
       "  </thead>\n",
       "  <tbody>\n",
       "    <tr>\n",
       "      <th>2</th>\n",
       "      <td>hum</td>\n",
       "      <td>14.76</td>\n",
       "    </tr>\n",
       "    <tr>\n",
       "      <th>1</th>\n",
       "      <td>temp</td>\n",
       "      <td>8.37</td>\n",
       "    </tr>\n",
       "    <tr>\n",
       "      <th>3</th>\n",
       "      <td>windspeed</td>\n",
       "      <td>3.61</td>\n",
       "    </tr>\n",
       "    <tr>\n",
       "      <th>5</th>\n",
       "      <td>winter</td>\n",
       "      <td>2.25</td>\n",
       "    </tr>\n",
       "    <tr>\n",
       "      <th>6</th>\n",
       "      <td>MistnCloudy</td>\n",
       "      <td>2.22</td>\n",
       "    </tr>\n",
       "    <tr>\n",
       "      <th>0</th>\n",
       "      <td>yr</td>\n",
       "      <td>1.89</td>\n",
       "    </tr>\n",
       "    <tr>\n",
       "      <th>4</th>\n",
       "      <td>summer</td>\n",
       "      <td>1.62</td>\n",
       "    </tr>\n",
       "    <tr>\n",
       "      <th>9</th>\n",
       "      <td>Oct</td>\n",
       "      <td>1.59</td>\n",
       "    </tr>\n",
       "    <tr>\n",
       "      <th>7</th>\n",
       "      <td>LightSnownStorms</td>\n",
       "      <td>1.21</td>\n",
       "    </tr>\n",
       "    <tr>\n",
       "      <th>8</th>\n",
       "      <td>Sep</td>\n",
       "      <td>1.18</td>\n",
       "    </tr>\n",
       "    <tr>\n",
       "      <th>10</th>\n",
       "      <td>weekday_6</td>\n",
       "      <td>1.17</td>\n",
       "    </tr>\n",
       "  </tbody>\n",
       "</table>\n",
       "</div>"
      ],
      "text/plain": [
       "            Features    VIF\n",
       "2                hum  14.76\n",
       "1               temp   8.37\n",
       "3          windspeed   3.61\n",
       "5             winter   2.25\n",
       "6        MistnCloudy   2.22\n",
       "0                 yr   1.89\n",
       "4             summer   1.62\n",
       "9                Oct   1.59\n",
       "7   LightSnownStorms   1.21\n",
       "8                Sep   1.18\n",
       "10         weekday_6   1.17"
      ]
     },
     "execution_count": 41,
     "metadata": {},
     "output_type": "execute_result"
    }
   ],
   "source": [
    "#  find the VIF of the variables\n",
    "\n",
    "X_train_new = X_train_rfe.drop('const', axis=1)\n",
    "vif = pd.DataFrame()\n",
    "vif['Features'] = X_train_new.columns\n",
    "vif['VIF'] = [variance_inflation_factor(X_train_new.values, i) for i in range(X_train_new.shape[1])]\n",
    "vif['VIF'] = round(vif['VIF'], 2)\n",
    "vif = vif.sort_values(by = \"VIF\", ascending = False)\n",
    "vif"
   ]
  },
  {
   "cell_type": "markdown",
   "id": "ee6fb91b",
   "metadata": {},
   "source": [
    "### 12.7 Trial Model # 6\n",
    "\n",
    "Now the hum has high VIF > 5, so we will drop it next"
   ]
  },
  {
   "cell_type": "code",
   "execution_count": 42,
   "id": "b2ee2ea7",
   "metadata": {},
   "outputs": [
    {
     "name": "stdout",
     "output_type": "stream",
     "text": [
      "                            OLS Regression Results                            \n",
      "==============================================================================\n",
      "Dep. Variable:                    cnt   R-squared:                       0.831\n",
      "Model:                            OLS   Adj. R-squared:                  0.828\n",
      "Method:                 Least Squares   F-statistic:                     245.2\n",
      "Date:                Wed, 12 Jan 2022   Prob (F-statistic):          2.10e-185\n",
      "Time:                        14:32:20   Log-Likelihood:                 494.42\n",
      "No. Observations:                 510   AIC:                            -966.8\n",
      "Df Residuals:                     499   BIC:                            -920.3\n",
      "Df Model:                          10                                         \n",
      "Covariance Type:            nonrobust                                         \n",
      "====================================================================================\n",
      "                       coef    std err          t      P>|t|      [0.025      0.975]\n",
      "------------------------------------------------------------------------------------\n",
      "const                0.1083      0.017      6.383      0.000       0.075       0.142\n",
      "yr                   0.2331      0.008     28.218      0.000       0.217       0.249\n",
      "temp                 0.5599      0.020     28.177      0.000       0.521       0.599\n",
      "windspeed           -0.1567      0.025     -6.154      0.000      -0.207      -0.107\n",
      "summer               0.0880      0.010      8.505      0.000       0.068       0.108\n",
      "winter               0.1219      0.012      9.959      0.000       0.098       0.146\n",
      "MistnCloudy         -0.0787      0.009     -8.847      0.000      -0.096      -0.061\n",
      "LightSnownStorms    -0.2668      0.024    -11.000      0.000      -0.315      -0.219\n",
      "Sep                  0.0833      0.018      4.737      0.000       0.049       0.118\n",
      "Oct                  0.0349      0.018      1.969      0.050    7.12e-05       0.070\n",
      "weekday_6            0.0249      0.012      2.059      0.040       0.001       0.049\n",
      "==============================================================================\n",
      "Omnibus:                       72.579   Durbin-Watson:                   1.994\n",
      "Prob(Omnibus):                  0.000   Jarque-Bera (JB):              150.445\n",
      "Skew:                          -0.792   Prob(JB):                     2.14e-33\n",
      "Kurtosis:                       5.138   Cond. No.                         10.3\n",
      "==============================================================================\n",
      "\n",
      "Notes:\n",
      "[1] Standard Errors assume that the covariance matrix of the errors is correctly specified.\n"
     ]
    }
   ],
   "source": [
    "X_train_rfe = X_train_rfe.drop('hum', axis=1)\n",
    "\n",
    "lm = sm.OLS(y_train, X_train_rfe).fit()\n",
    "\n",
    "# check the summary of the model\n",
    "\n",
    "print(lm.summary())"
   ]
  },
  {
   "cell_type": "code",
   "execution_count": 43,
   "id": "64b063a5",
   "metadata": {},
   "outputs": [
    {
     "data": {
      "text/html": [
       "<div>\n",
       "<style scoped>\n",
       "    .dataframe tbody tr th:only-of-type {\n",
       "        vertical-align: middle;\n",
       "    }\n",
       "\n",
       "    .dataframe tbody tr th {\n",
       "        vertical-align: top;\n",
       "    }\n",
       "\n",
       "    .dataframe thead th {\n",
       "        text-align: right;\n",
       "    }\n",
       "</style>\n",
       "<table border=\"1\" class=\"dataframe\">\n",
       "  <thead>\n",
       "    <tr style=\"text-align: right;\">\n",
       "      <th></th>\n",
       "      <th>Features</th>\n",
       "      <th>VIF</th>\n",
       "    </tr>\n",
       "  </thead>\n",
       "  <tbody>\n",
       "    <tr>\n",
       "      <th>1</th>\n",
       "      <td>temp</td>\n",
       "      <td>3.76</td>\n",
       "    </tr>\n",
       "    <tr>\n",
       "      <th>2</th>\n",
       "      <td>windspeed</td>\n",
       "      <td>3.23</td>\n",
       "    </tr>\n",
       "    <tr>\n",
       "      <th>0</th>\n",
       "      <td>yr</td>\n",
       "      <td>1.88</td>\n",
       "    </tr>\n",
       "    <tr>\n",
       "      <th>4</th>\n",
       "      <td>winter</td>\n",
       "      <td>1.84</td>\n",
       "    </tr>\n",
       "    <tr>\n",
       "      <th>3</th>\n",
       "      <td>summer</td>\n",
       "      <td>1.61</td>\n",
       "    </tr>\n",
       "    <tr>\n",
       "      <th>8</th>\n",
       "      <td>Oct</td>\n",
       "      <td>1.57</td>\n",
       "    </tr>\n",
       "    <tr>\n",
       "      <th>5</th>\n",
       "      <td>MistnCloudy</td>\n",
       "      <td>1.46</td>\n",
       "    </tr>\n",
       "    <tr>\n",
       "      <th>7</th>\n",
       "      <td>Sep</td>\n",
       "      <td>1.18</td>\n",
       "    </tr>\n",
       "    <tr>\n",
       "      <th>9</th>\n",
       "      <td>weekday_6</td>\n",
       "      <td>1.16</td>\n",
       "    </tr>\n",
       "    <tr>\n",
       "      <th>6</th>\n",
       "      <td>LightSnownStorms</td>\n",
       "      <td>1.09</td>\n",
       "    </tr>\n",
       "  </tbody>\n",
       "</table>\n",
       "</div>"
      ],
      "text/plain": [
       "           Features   VIF\n",
       "1              temp  3.76\n",
       "2         windspeed  3.23\n",
       "0                yr  1.88\n",
       "4            winter  1.84\n",
       "3            summer  1.61\n",
       "8               Oct  1.57\n",
       "5       MistnCloudy  1.46\n",
       "7               Sep  1.18\n",
       "9         weekday_6  1.16\n",
       "6  LightSnownStorms  1.09"
      ]
     },
     "execution_count": 43,
     "metadata": {},
     "output_type": "execute_result"
    }
   ],
   "source": [
    "X_train_new = X_train_rfe.drop('const', axis=1)\n",
    "vif = pd.DataFrame()\n",
    "vif['Features'] = X_train_new.columns\n",
    "vif['VIF'] = [variance_inflation_factor(X_train_new.values, i) for i in range(X_train_new.shape[1])]\n",
    "vif['VIF'] = round(vif['VIF'], 2)\n",
    "vif = vif.sort_values(by = \"VIF\", ascending = False)\n",
    "vif"
   ]
  },
  {
   "cell_type": "markdown",
   "id": "52348ace",
   "metadata": {},
   "source": [
    "### 12.8 Trial Model # 7\n",
    "\n",
    "Now the Oct has high p-value  > 0.05, so we will drop it next"
   ]
  },
  {
   "cell_type": "code",
   "execution_count": 44,
   "id": "77e7eefb",
   "metadata": {},
   "outputs": [
    {
     "name": "stdout",
     "output_type": "stream",
     "text": [
      "                            OLS Regression Results                            \n",
      "==============================================================================\n",
      "Dep. Variable:                    cnt   R-squared:                       0.830\n",
      "Model:                            OLS   Adj. R-squared:                  0.827\n",
      "Method:                 Least Squares   F-statistic:                     270.5\n",
      "Date:                Wed, 12 Jan 2022   Prob (F-statistic):          8.49e-186\n",
      "Time:                        14:32:20   Log-Likelihood:                 492.45\n",
      "No. Observations:                 510   AIC:                            -964.9\n",
      "Df Residuals:                     500   BIC:                            -922.6\n",
      "Df Model:                           9                                         \n",
      "Covariance Type:            nonrobust                                         \n",
      "====================================================================================\n",
      "                       coef    std err          t      P>|t|      [0.025      0.975]\n",
      "------------------------------------------------------------------------------------\n",
      "const                0.1032      0.017      6.136      0.000       0.070       0.136\n",
      "yr                   0.2335      0.008     28.197      0.000       0.217       0.250\n",
      "temp                 0.5672      0.020     28.965      0.000       0.529       0.606\n",
      "windspeed           -0.1547      0.026     -6.062      0.000      -0.205      -0.105\n",
      "summer               0.0871      0.010      8.399      0.000       0.067       0.107\n",
      "winter               0.1345      0.010     12.830      0.000       0.114       0.155\n",
      "MistnCloudy         -0.0770      0.009     -8.673      0.000      -0.094      -0.060\n",
      "LightSnownStorms    -0.2631      0.024    -10.847      0.000      -0.311      -0.215\n",
      "Sep                  0.0790      0.018      4.513      0.000       0.045       0.113\n",
      "weekday_6            0.0246      0.012      2.031      0.043       0.001       0.048\n",
      "==============================================================================\n",
      "Omnibus:                       63.639   Durbin-Watson:                   1.969\n",
      "Prob(Omnibus):                  0.000   Jarque-Bera (JB):              121.651\n",
      "Skew:                          -0.732   Prob(JB):                     3.84e-27\n",
      "Kurtosis:                       4.892   Cond. No.                         10.1\n",
      "==============================================================================\n",
      "\n",
      "Notes:\n",
      "[1] Standard Errors assume that the covariance matrix of the errors is correctly specified.\n"
     ]
    }
   ],
   "source": [
    "X_train_rfe = X_train_rfe.drop('Oct', axis=1)\n",
    "\n",
    "lm = sm.OLS(y_train, X_train_rfe).fit()\n",
    "\n",
    "# check the summary of the model\n",
    "\n",
    "print(lm.summary())"
   ]
  },
  {
   "cell_type": "code",
   "execution_count": 45,
   "id": "a361118b",
   "metadata": {},
   "outputs": [
    {
     "data": {
      "text/html": [
       "<div>\n",
       "<style scoped>\n",
       "    .dataframe tbody tr th:only-of-type {\n",
       "        vertical-align: middle;\n",
       "    }\n",
       "\n",
       "    .dataframe tbody tr th {\n",
       "        vertical-align: top;\n",
       "    }\n",
       "\n",
       "    .dataframe thead th {\n",
       "        text-align: right;\n",
       "    }\n",
       "</style>\n",
       "<table border=\"1\" class=\"dataframe\">\n",
       "  <thead>\n",
       "    <tr style=\"text-align: right;\">\n",
       "      <th></th>\n",
       "      <th>Features</th>\n",
       "      <th>VIF</th>\n",
       "    </tr>\n",
       "  </thead>\n",
       "  <tbody>\n",
       "    <tr>\n",
       "      <th>1</th>\n",
       "      <td>temp</td>\n",
       "      <td>3.71</td>\n",
       "    </tr>\n",
       "    <tr>\n",
       "      <th>2</th>\n",
       "      <td>windspeed</td>\n",
       "      <td>3.22</td>\n",
       "    </tr>\n",
       "    <tr>\n",
       "      <th>0</th>\n",
       "      <td>yr</td>\n",
       "      <td>1.88</td>\n",
       "    </tr>\n",
       "    <tr>\n",
       "      <th>3</th>\n",
       "      <td>summer</td>\n",
       "      <td>1.61</td>\n",
       "    </tr>\n",
       "    <tr>\n",
       "      <th>5</th>\n",
       "      <td>MistnCloudy</td>\n",
       "      <td>1.45</td>\n",
       "    </tr>\n",
       "    <tr>\n",
       "      <th>4</th>\n",
       "      <td>winter</td>\n",
       "      <td>1.36</td>\n",
       "    </tr>\n",
       "    <tr>\n",
       "      <th>7</th>\n",
       "      <td>Sep</td>\n",
       "      <td>1.16</td>\n",
       "    </tr>\n",
       "    <tr>\n",
       "      <th>8</th>\n",
       "      <td>weekday_6</td>\n",
       "      <td>1.16</td>\n",
       "    </tr>\n",
       "    <tr>\n",
       "      <th>6</th>\n",
       "      <td>LightSnownStorms</td>\n",
       "      <td>1.09</td>\n",
       "    </tr>\n",
       "  </tbody>\n",
       "</table>\n",
       "</div>"
      ],
      "text/plain": [
       "           Features   VIF\n",
       "1              temp  3.71\n",
       "2         windspeed  3.22\n",
       "0                yr  1.88\n",
       "3            summer  1.61\n",
       "5       MistnCloudy  1.45\n",
       "4            winter  1.36\n",
       "7               Sep  1.16\n",
       "8         weekday_6  1.16\n",
       "6  LightSnownStorms  1.09"
      ]
     },
     "execution_count": 45,
     "metadata": {},
     "output_type": "execute_result"
    }
   ],
   "source": [
    "X_train_new = X_train_rfe.drop('const', axis=1)\n",
    "vif = pd.DataFrame()\n",
    "vif['Features'] = X_train_new.columns\n",
    "vif['VIF'] = [variance_inflation_factor(X_train_new.values, i) for i in range(X_train_new.shape[1])]\n",
    "vif['VIF'] = round(vif['VIF'], 2)\n",
    "vif = vif.sort_values(by = \"VIF\", ascending = False)\n",
    "vif"
   ]
  },
  {
   "cell_type": "markdown",
   "id": "8e88aee0",
   "metadata": {},
   "source": [
    "**Observations:**\n",
    "\n",
    "After 7 trials of models, we have a good model where,\n",
    "\n",
    "- **Adjusted R square is 0.83, which means model is able to explain nearly 83% of variations as result of change in independent variables.**\n",
    "\n",
    "- **p-values of variables is less than 0.04, which means that all the variables are statistcally significant and we can reject the null hypothesis of all betas being 0.**\n",
    "\n",
    "- **VIF of independent variables is less than 5, which means that are no issue of multicollinearity.**"
   ]
  },
  {
   "cell_type": "markdown",
   "id": "0d9b59c9",
   "metadata": {},
   "source": [
    "## 13. Residual Analysis of the training data\n",
    "\n",
    "We will now validate the assumptions of linear regression\n",
    "\n",
    "### 13.1 Asummption 1 : There is a linear relationship between X and Y\n",
    "\n",
    "To check this, we will do a scatter plot between one of the significant variable temp (X) and bike rentals (Y)\n",
    "\n",
    "\n"
   ]
  },
  {
   "cell_type": "code",
   "execution_count": 46,
   "id": "86cfcbec",
   "metadata": {
    "scrolled": false
   },
   "outputs": [
    {
     "data": {
      "image/png": "[encoded data removed]",
      "text/plain": [
       "<Figure size 432x432 with 1 Axes>"
      ]
     },
     "metadata": {
      "needs_background": "light"
     },
     "output_type": "display_data"
    }
   ],
   "source": [
    "# scatter plot between temp and cnt\n",
    "\n",
    "plt.figure(figsize=(6,6))\n",
    "plt.scatter(bikes['cnt'], bikes['temp'])\n",
    "plt.ylabel('Bike Rental Count (cnt)')\n",
    "plt.xlabel('Temperature (temp)')\n",
    "plt.show()  "
   ]
  },
  {
   "cell_type": "markdown",
   "id": "911a75f0",
   "metadata": {},
   "source": [
    "Above plot shows that as temperature increases, bike rental number go increasing linearly"
   ]
  },
  {
   "cell_type": "markdown",
   "id": "5a920ac3",
   "metadata": {},
   "source": [
    "### 13.2 Assumption 2 : Errors terms are normally distributed\n",
    "\n",
    "We will check with histogram of error terms "
   ]
  },
  {
   "cell_type": "code",
   "execution_count": 47,
   "id": "4f218c4e",
   "metadata": {},
   "outputs": [
    {
     "data": {
      "text/plain": [
       "<Figure size 432x432 with 0 Axes>"
      ]
     },
     "metadata": {},
     "output_type": "display_data"
    },
    {
     "data": {
      "image/png": "[encoded data removed]",
      "text/plain": [
       "<Figure size 432x288 with 1 Axes>"
      ]
     },
     "metadata": {
      "needs_background": "light"
     },
     "output_type": "display_data"
    }
   ],
   "source": [
    "# we will first get pridcted count of bike rental\n",
    "\n",
    "y_train_pred = lm.predict(X_train_rfe)\n",
    "\n",
    "# find the residuals (error terms)\n",
    "\n",
    "res = y_train - y_train_pred\n",
    "\n",
    "# plot a histogram of residuals\n",
    "\n",
    "plt.figure(figsize=(6,6))\n",
    "fig = plt.figure()\n",
    "ax = plt.gca()\n",
    "ax.set_xlim(xmin=-0.5, xmax=0.5)\n",
    "sns.distplot(res, bins = 20)\n",
    "fig.suptitle('Error Terms', fontsize = 20)                  # Plot heading \n",
    "plt.xlabel('Errors', fontsize = 18)  \n",
    "plt.show()"
   ]
  },
  {
   "cell_type": "markdown",
   "id": "35a85c24",
   "metadata": {},
   "source": [
    "**Observation**\n",
    "\n",
    "Above histogram shows a normal distribution of error terms, hence proving the this assumption of linear regression."
   ]
  },
  {
   "cell_type": "markdown",
   "id": "c84fcd4f",
   "metadata": {},
   "source": [
    "### 13.3 Assumption 3 : Error terms are independent of each other:\n",
    "\n",
    "The error terms should not be dependent on one another. To verify this, we plotted a scatter plot between the error terms and prediction of count of rental (y_pred)  "
   ]
  },
  {
   "cell_type": "code",
   "execution_count": 48,
   "id": "7fc90b87",
   "metadata": {
    "scrolled": true
   },
   "outputs": [
    {
     "data": {
      "image/png": "[encoded data removed]",
      "text/plain": [
       "<Figure size 432x432 with 1 Axes>"
      ]
     },
     "metadata": {
      "needs_background": "light"
     },
     "output_type": "display_data"
    }
   ],
   "source": [
    "# plot error terms against prediction count of rental (y_pred)\n",
    "\n",
    "plt.figure(figsize=(6,6))\n",
    "ax = plt.gca()\n",
    "ax.set_ylim(ymin=-0.4, ymax=0.4)\n",
    "plt.scatter(y_train_pred, res)\n",
    "plt.ylabel('Error tems (residuals)')\n",
    "plt.xlabel('y (cnt) (predicted)')\n",
    "plt.show()"
   ]
  },
  {
   "cell_type": "markdown",
   "id": "5e30cbc7",
   "metadata": {},
   "source": [
    "Above plot shows that error terms do not show any constant pattern (increase or decrease) and are fairly randomly distributed and thus independent of each other."
   ]
  },
  {
   "cell_type": "markdown",
   "id": "1b8e8ce7",
   "metadata": {},
   "source": [
    "### 13.4 Assumption 4 : Error terms have constant variance (homoscedasticity):\n",
    "\n",
    "Following plot shows that the variance does not changes as the error values change.\n",
    "\n",
    "Also, the variance does not follow any pattern as the error terms change.\n"
   ]
  },
  {
   "cell_type": "code",
   "execution_count": 49,
   "id": "59b118b1",
   "metadata": {
    "scrolled": true
   },
   "outputs": [
    {
     "data": {
      "image/png": "[encoded data removed]",
      "text/plain": [
       "<Figure size 432x432 with 1 Axes>"
      ]
     },
     "metadata": {
      "needs_background": "light"
     },
     "output_type": "display_data"
    }
   ],
   "source": [
    "# plot error terms against predict count of rental (y_pred)\n",
    "\n",
    "plt.figure(figsize=(6,6))\n",
    "ax = plt.gca()\n",
    "ax.set_ylim(ymin=-0.4, ymax=0.4)\n",
    "plt.scatter(y_train_pred, res)\n",
    "plt.ylabel('Error tems (residuals)')\n",
    "plt.xlabel('y (cnt) (predicted)')\n",
    "plt.show()"
   ]
  },
  {
   "cell_type": "markdown",
   "id": "96703aa4",
   "metadata": {},
   "source": [
    "### 13.5 Additional considerations for Multiple Linear Regression\n",
    "\n",
    "We can confirm that these additional considerations are valid as well.\n",
    "\n",
    "1. Since the VIF values of independent variables is less than 5, we are confident that requirement of multicollinearity is satisfied.\n",
    "\n",
    "\n",
    "2. R-square on test dataset is 0.78 while it was 0.83 on the training dataset. Since they are quite close it shows that model has generalised well on the test dataset and there is no over or under fitting."
   ]
  },
  {
   "cell_type": "markdown",
   "id": "e635ce59",
   "metadata": {},
   "source": [
    "## 14 Making predictions on test set\n",
    "\n",
    "We will now make prediction on the test dataset and then find the R square for it to see how well the model fits and to see whether this is any under or over-fitting."
   ]
  },
  {
   "cell_type": "markdown",
   "id": "d17450af",
   "metadata": {},
   "source": [
    "### 14.1 First apply the scaling on the test sets"
   ]
  },
  {
   "cell_type": "code",
   "execution_count": 50,
   "id": "862c78b6",
   "metadata": {},
   "outputs": [],
   "source": [
    "# we will scale the numerical variables in the test dataset\n",
    "\n",
    "vars = ['temp', 'hum', 'windspeed', 'cnt', 'atemp']\n",
    "\n",
    "bikes_test[vars] = scaler.transform(bikes_test[vars])"
   ]
  },
  {
   "cell_type": "markdown",
   "id": "2ba97c74",
   "metadata": {},
   "source": [
    "### 14.2 Dividing into X_test and y_test"
   ]
  },
  {
   "cell_type": "code",
   "execution_count": 51,
   "id": "54e2b0f2",
   "metadata": {},
   "outputs": [],
   "source": [
    "# we separate y from the X\n",
    "\n",
    "y_test = bikes_test.pop('cnt')\n",
    "X_test = bikes_test"
   ]
  },
  {
   "cell_type": "markdown",
   "id": "33dfacaf",
   "metadata": {},
   "source": [
    "### 14.3 We will use our final model # 7 to make predictions"
   ]
  },
  {
   "cell_type": "code",
   "execution_count": 52,
   "id": "4c0d723f",
   "metadata": {},
   "outputs": [],
   "source": [
    "# Creating X_test_new dataframe by dropping variables from X_test\n",
    "\n",
    "X_test_new = X_test[X_train_new.columns]\n",
    "\n",
    "# Adding a constant variable \n",
    "\n",
    "X_test_new = sm.add_constant(X_test_new)"
   ]
  },
  {
   "cell_type": "code",
   "execution_count": 53,
   "id": "1b3f4f6c",
   "metadata": {},
   "outputs": [],
   "source": [
    "# Making predictions\n",
    "\n",
    "y_test_pred = lm.predict(X_test_new)"
   ]
  },
  {
   "cell_type": "code",
   "execution_count": 54,
   "id": "84bba3f5",
   "metadata": {},
   "outputs": [],
   "source": [
    "# calculate the residual for test dataset \n",
    "\n",
    "res_test = y_test - y_test_pred"
   ]
  },
  {
   "cell_type": "markdown",
   "id": "3acaa945",
   "metadata": {},
   "source": [
    "## 15. Model Evaluation\n",
    "\n"
   ]
  },
  {
   "cell_type": "markdown",
   "id": "a7158f9c",
   "metadata": {},
   "source": [
    "### 15.1  Evaluation  using plot of prediction versus actual count of bike rental"
   ]
  },
  {
   "cell_type": "code",
   "execution_count": 55,
   "id": "9ebad707",
   "metadata": {
    "scrolled": true
   },
   "outputs": [
    {
     "data": {
      "text/plain": [
       "Text(0, 0.5, 'y_pred')"
      ]
     },
     "execution_count": 55,
     "metadata": {},
     "output_type": "execute_result"
    },
    {
     "data": {
      "image/png": "[encoded data removed]",
      "text/plain": [
       "<Figure size 432x288 with 1 Axes>"
      ]
     },
     "metadata": {
      "needs_background": "light"
     },
     "output_type": "display_data"
    }
   ],
   "source": [
    "# Plotting y_test and y_pred to understand the spread\n",
    "\n",
    "fig = plt.figure()\n",
    "sns.regplot(x=y_test, y=y_test_pred)\n",
    "fig.suptitle('y_test vs y_pred', fontsize = 20)              # Plot heading \n",
    "plt.xlabel('y_test', fontsize = 18)                          # X-label\n",
    "plt.ylabel('y_pred', fontsize = 16)  "
   ]
  },
  {
   "cell_type": "markdown",
   "id": "d1f7ce2e",
   "metadata": {},
   "source": [
    "#### Conclusion : Our R-square on test is 0.78 while it was 0.83 on the training dataset. \n",
    "#### Since they are quite close it shows that model has generalised well on the test dataset and there is no over or under fitting.\n",
    "\n",
    "We can see that the equation of our best fitted line is:\n",
    "\n",
    "$ count = 0.103 \\times constant + 0.2335  \\times  year + 0.5672  \\times  temperature + 0.0871 \\times summer + 0.1345 \\times winter + 0.0790 \\times september + 0.0246 \\times weekday_6 - 0.1547 \\times windspeed - 0.0770 \\times Mist and Cloudy - 0.2631 \\times Light Snow and Storms $\n",
    "\n",
    "\n",
    "#### Since actual versus predicted value fit the line, we have a decent model."
   ]
  },
  {
   "cell_type": "markdown",
   "id": "2098d9ee",
   "metadata": {},
   "source": [
    "### 15.2  Evaluation on R-square for test add train dataset"
   ]
  },
  {
   "cell_type": "code",
   "execution_count": 56,
   "id": "755aa7c4",
   "metadata": {},
   "outputs": [
    {
     "name": "stdout",
     "output_type": "stream",
     "text": [
      "Mean square error = 0.10316688992113833\n",
      "R-square (test) = 0.7818327038350942\n"
     ]
    }
   ],
   "source": [
    "print('Mean square error =', math.sqrt(mean_squared_error(y_test, y_test_pred)))\n",
    "print(\"R-square (test) =\", r2_score(y_test, y_test_pred))"
   ]
  },
  {
   "cell_type": "markdown",
   "id": "35834743",
   "metadata": {},
   "source": [
    "#### Our R-square on test is 0.78 while it was 0.83 on the training dataset. \n",
    "#### Since they are quite close it shows that model has generalised well on the test dataset and there is no over or under fitting."
   ]
  },
  {
   "cell_type": "markdown",
   "id": "6bf83e8e",
   "metadata": {},
   "source": [
    "### 16. Conclusions from final model"
   ]
  },
  {
   "cell_type": "markdown",
   "id": "5cfb93ee",
   "metadata": {},
   "source": [
    "### 16.1 Variables that are significant in predicting the demand for shared bikes.\n",
    "\n",
    "Following variables are significant\n",
    "\n",
    "**Temperature of the day**\n",
    "\n",
    "**Year of rental**\n",
    "\n",
    "**Type of weather** (summer, winter)\n",
    "\n",
    "**Month of the year** (in particular September)\n",
    "\n",
    "**Week day** (specially Sunday)\n",
    "\n",
    "**Season** (in particular summer and winter)\n",
    "\n",
    "**Windspeed**\n",
    "\n",
    "**Weather** (in particular Misty and Cloudy or Light Snow or Thunderstorm)\n"
   ]
  },
  {
   "cell_type": "markdown",
   "id": "18b6dc4a",
   "metadata": {},
   "source": [
    "### 16.2 How variables describe the demand (Dynamics of the demand)\n",
    "\n",
    "Based up on above variables and their coefficients, we can group drivers variables in following groups\n",
    "\n",
    "**Positive Drivers**\n",
    "\n",
    "These variables increase the demand for the rental. So company should check and the plan the stock for these days\n",
    "\n",
    "-  **Temperature of the day** (Coeff 0.5672) - This has got big impact of the demand. Higher the temperature higher is the demand.\n",
    "\n",
    "\n",
    "-  **Year**  (Coeff 0.2335) - Model shows that there is natural increase in demand from one year to another. Probably with growing population and awareness for health. So company can plan to increase production to meet this.\n",
    "\n",
    "\n",
    "- **Week day 6 or Sunday** (Coeff 0.0246) - This is a weak indicator that demand is more on Sunday, it being a holiday.\n",
    "\n",
    "\n",
    "- **Season**  - Rental increases particularly in summer (Coeff 0.0871) and winter as well (Coeff, 0.1345)\n",
    "\n",
    "\n",
    "- **Month (September)** (Coeff 0.0790) - There is variatin with month, with september month being strongest in terms of increase in demand\n",
    "\n",
    "\n",
    "**Negative Drivers**\n",
    "\n",
    "These variables decrease the demand for the rental. So company should check and plan for the lean days.\n",
    "\n",
    "- **Adverse weather days** (Coeff -0.2631 and - 0.0770)) - On bad weather days particularly  Light Snow, Light Rain + Thunderstorm + Scattered clouds, Light Rain + Scattered clouds, demand is very low.\n",
    "\n",
    "\n",
    "- **Wind speed** (Coeff -0.1547), on higher wind speed days demand decreases perhaps due wind chill factor or wind resistance.\n",
    "\n"
   ]
  },
  {
   "cell_type": "markdown",
   "id": "bdab3b34",
   "metadata": {},
   "source": [
    "### 16.3 Model to describe the demand\n",
    "\n",
    "The model is\n",
    "\n",
    "$ count = 0.103 \\times constant + 0.2335  \\times  year + 0.5672  \\times  temperature + 0.0871 \\times summer + 0.1345 \\times winter + 0.0790 \\times september + 0.0246 \\times weekday_6 - 0.1547 \\times windspeed - 0.0770 \\times Mist and Cloudy - 0.2631 \\times Light Snow and Storms $\n"
   ]
  }
 ],
 "metadata": {
  "kernelspec": {
   "display_name": "Python 3",
   "language": "python",
   "name": "python3"
  },
  "language_info": {
   "codemirror_mode": {
    "name": "ipython",
    "version": 3
   },
   "file_extension": ".py",
   "mimetype": "text/x-python",
   "name": "python",
   "nbconvert_exporter": "python",
   "pygments_lexer": "ipython3",
   "version": "3.8.8"
  }
 },
 "nbformat": 4,
 "nbformat_minor": 5
}
